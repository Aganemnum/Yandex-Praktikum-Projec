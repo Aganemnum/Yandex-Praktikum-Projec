{
 "cells": [
  {
   "cell_type": "markdown",
   "id": "4245eec6",
   "metadata": {
    "deletable": false,
    "editable": false,
    "id": "c81daeeb"
   },
   "source": [
    "# Исследование надежности заемщиков\n"
   ]
  },
  {
   "cell_type": "markdown",
   "id": "b362aa20",
   "metadata": {
    "deletable": false,
    "editable": false,
    "id": "827c20bf"
   },
   "source": [
    "Во второй части проекта вы выполните шаги 3 и 4. Их вручную проверит ревьюер.\n",
    "Чтобы вам не пришлось писать код заново для шагов 1 и 2, мы добавили авторские решения в ячейки с кодом. \n",
    "\n"
   ]
  },
  {
   "cell_type": "markdown",
   "id": "ecae9a21",
   "metadata": {
    "deletable": false,
    "editable": false,
    "id": "744d7639"
   },
   "source": [
    "## Откройте таблицу и изучите общую информацию о данных"
   ]
  },
  {
   "cell_type": "markdown",
   "id": "24608a1d",
   "metadata": {
    "deletable": false,
    "editable": false,
    "id": "e7a14c31"
   },
   "source": [
    "**Задание 1. Импортируйте библиотеку pandas. Считайте данные из csv-файла в датафрейм и сохраните в переменную `data`. Путь к файлу:**\n",
    "\n",
    "`/datasets/data.csv`"
   ]
  },
  {
   "cell_type": "code",
   "execution_count": 1,
   "id": "59ece90b",
   "metadata": {
    "deletable": false,
    "id": "7bcf75c9"
   },
   "outputs": [],
   "source": [
    "import pandas as pd"
   ]
  },
  {
   "cell_type": "code",
   "execution_count": 2,
   "id": "9f1a8965",
   "metadata": {},
   "outputs": [],
   "source": [
    "try:\n",
    "    data = pd.read_csv('/datasets/data.csv')\n",
    "except:\n",
    "    data = pd.read_csv('https://code.s3.yandex.net/datasets/data.csv')"
   ]
  },
  {
   "cell_type": "markdown",
   "id": "bbdfb656",
   "metadata": {
    "deletable": false,
    "editable": false,
    "id": "b8038fe3"
   },
   "source": [
    "**Задание 2. Выведите первые 20 строчек датафрейма `data` на экран.**"
   ]
  },
  {
   "cell_type": "code",
   "execution_count": 3,
   "id": "e4151bbd",
   "metadata": {
    "deletable": false,
    "id": "2a7cab99",
    "outputId": "1a8f3ef2-d323-4ec2-ddf7-89670b5944c4"
   },
   "outputs": [
    {
     "data": {
      "text/html": [
       "<div>\n",
       "<style scoped>\n",
       "    .dataframe tbody tr th:only-of-type {\n",
       "        vertical-align: middle;\n",
       "    }\n",
       "\n",
       "    .dataframe tbody tr th {\n",
       "        vertical-align: top;\n",
       "    }\n",
       "\n",
       "    .dataframe thead th {\n",
       "        text-align: right;\n",
       "    }\n",
       "</style>\n",
       "<table border=\"1\" class=\"dataframe\">\n",
       "  <thead>\n",
       "    <tr style=\"text-align: right;\">\n",
       "      <th></th>\n",
       "      <th>children</th>\n",
       "      <th>days_employed</th>\n",
       "      <th>dob_years</th>\n",
       "      <th>education</th>\n",
       "      <th>education_id</th>\n",
       "      <th>family_status</th>\n",
       "      <th>family_status_id</th>\n",
       "      <th>gender</th>\n",
       "      <th>income_type</th>\n",
       "      <th>debt</th>\n",
       "      <th>total_income</th>\n",
       "      <th>purpose</th>\n",
       "    </tr>\n",
       "  </thead>\n",
       "  <tbody>\n",
       "    <tr>\n",
       "      <th>0</th>\n",
       "      <td>1</td>\n",
       "      <td>-8437.673028</td>\n",
       "      <td>42</td>\n",
       "      <td>высшее</td>\n",
       "      <td>0</td>\n",
       "      <td>женат / замужем</td>\n",
       "      <td>0</td>\n",
       "      <td>F</td>\n",
       "      <td>сотрудник</td>\n",
       "      <td>0</td>\n",
       "      <td>253875.639453</td>\n",
       "      <td>покупка жилья</td>\n",
       "    </tr>\n",
       "    <tr>\n",
       "      <th>1</th>\n",
       "      <td>1</td>\n",
       "      <td>-4024.803754</td>\n",
       "      <td>36</td>\n",
       "      <td>среднее</td>\n",
       "      <td>1</td>\n",
       "      <td>женат / замужем</td>\n",
       "      <td>0</td>\n",
       "      <td>F</td>\n",
       "      <td>сотрудник</td>\n",
       "      <td>0</td>\n",
       "      <td>112080.014102</td>\n",
       "      <td>приобретение автомобиля</td>\n",
       "    </tr>\n",
       "    <tr>\n",
       "      <th>2</th>\n",
       "      <td>0</td>\n",
       "      <td>-5623.422610</td>\n",
       "      <td>33</td>\n",
       "      <td>Среднее</td>\n",
       "      <td>1</td>\n",
       "      <td>женат / замужем</td>\n",
       "      <td>0</td>\n",
       "      <td>M</td>\n",
       "      <td>сотрудник</td>\n",
       "      <td>0</td>\n",
       "      <td>145885.952297</td>\n",
       "      <td>покупка жилья</td>\n",
       "    </tr>\n",
       "    <tr>\n",
       "      <th>3</th>\n",
       "      <td>3</td>\n",
       "      <td>-4124.747207</td>\n",
       "      <td>32</td>\n",
       "      <td>среднее</td>\n",
       "      <td>1</td>\n",
       "      <td>женат / замужем</td>\n",
       "      <td>0</td>\n",
       "      <td>M</td>\n",
       "      <td>сотрудник</td>\n",
       "      <td>0</td>\n",
       "      <td>267628.550329</td>\n",
       "      <td>дополнительное образование</td>\n",
       "    </tr>\n",
       "    <tr>\n",
       "      <th>4</th>\n",
       "      <td>0</td>\n",
       "      <td>340266.072047</td>\n",
       "      <td>53</td>\n",
       "      <td>среднее</td>\n",
       "      <td>1</td>\n",
       "      <td>гражданский брак</td>\n",
       "      <td>1</td>\n",
       "      <td>F</td>\n",
       "      <td>пенсионер</td>\n",
       "      <td>0</td>\n",
       "      <td>158616.077870</td>\n",
       "      <td>сыграть свадьбу</td>\n",
       "    </tr>\n",
       "    <tr>\n",
       "      <th>5</th>\n",
       "      <td>0</td>\n",
       "      <td>-926.185831</td>\n",
       "      <td>27</td>\n",
       "      <td>высшее</td>\n",
       "      <td>0</td>\n",
       "      <td>гражданский брак</td>\n",
       "      <td>1</td>\n",
       "      <td>M</td>\n",
       "      <td>компаньон</td>\n",
       "      <td>0</td>\n",
       "      <td>255763.565419</td>\n",
       "      <td>покупка жилья</td>\n",
       "    </tr>\n",
       "    <tr>\n",
       "      <th>6</th>\n",
       "      <td>0</td>\n",
       "      <td>-2879.202052</td>\n",
       "      <td>43</td>\n",
       "      <td>высшее</td>\n",
       "      <td>0</td>\n",
       "      <td>женат / замужем</td>\n",
       "      <td>0</td>\n",
       "      <td>F</td>\n",
       "      <td>компаньон</td>\n",
       "      <td>0</td>\n",
       "      <td>240525.971920</td>\n",
       "      <td>операции с жильем</td>\n",
       "    </tr>\n",
       "    <tr>\n",
       "      <th>7</th>\n",
       "      <td>0</td>\n",
       "      <td>-152.779569</td>\n",
       "      <td>50</td>\n",
       "      <td>СРЕДНЕЕ</td>\n",
       "      <td>1</td>\n",
       "      <td>женат / замужем</td>\n",
       "      <td>0</td>\n",
       "      <td>M</td>\n",
       "      <td>сотрудник</td>\n",
       "      <td>0</td>\n",
       "      <td>135823.934197</td>\n",
       "      <td>образование</td>\n",
       "    </tr>\n",
       "    <tr>\n",
       "      <th>8</th>\n",
       "      <td>2</td>\n",
       "      <td>-6929.865299</td>\n",
       "      <td>35</td>\n",
       "      <td>ВЫСШЕЕ</td>\n",
       "      <td>0</td>\n",
       "      <td>гражданский брак</td>\n",
       "      <td>1</td>\n",
       "      <td>F</td>\n",
       "      <td>сотрудник</td>\n",
       "      <td>0</td>\n",
       "      <td>95856.832424</td>\n",
       "      <td>на проведение свадьбы</td>\n",
       "    </tr>\n",
       "    <tr>\n",
       "      <th>9</th>\n",
       "      <td>0</td>\n",
       "      <td>-2188.756445</td>\n",
       "      <td>41</td>\n",
       "      <td>среднее</td>\n",
       "      <td>1</td>\n",
       "      <td>женат / замужем</td>\n",
       "      <td>0</td>\n",
       "      <td>M</td>\n",
       "      <td>сотрудник</td>\n",
       "      <td>0</td>\n",
       "      <td>144425.938277</td>\n",
       "      <td>покупка жилья для семьи</td>\n",
       "    </tr>\n",
       "    <tr>\n",
       "      <th>10</th>\n",
       "      <td>2</td>\n",
       "      <td>-4171.483647</td>\n",
       "      <td>36</td>\n",
       "      <td>высшее</td>\n",
       "      <td>0</td>\n",
       "      <td>женат / замужем</td>\n",
       "      <td>0</td>\n",
       "      <td>M</td>\n",
       "      <td>компаньон</td>\n",
       "      <td>0</td>\n",
       "      <td>113943.491460</td>\n",
       "      <td>покупка недвижимости</td>\n",
       "    </tr>\n",
       "    <tr>\n",
       "      <th>11</th>\n",
       "      <td>0</td>\n",
       "      <td>-792.701887</td>\n",
       "      <td>40</td>\n",
       "      <td>среднее</td>\n",
       "      <td>1</td>\n",
       "      <td>женат / замужем</td>\n",
       "      <td>0</td>\n",
       "      <td>F</td>\n",
       "      <td>сотрудник</td>\n",
       "      <td>0</td>\n",
       "      <td>77069.234271</td>\n",
       "      <td>покупка коммерческой недвижимости</td>\n",
       "    </tr>\n",
       "    <tr>\n",
       "      <th>12</th>\n",
       "      <td>0</td>\n",
       "      <td>NaN</td>\n",
       "      <td>65</td>\n",
       "      <td>среднее</td>\n",
       "      <td>1</td>\n",
       "      <td>гражданский брак</td>\n",
       "      <td>1</td>\n",
       "      <td>M</td>\n",
       "      <td>пенсионер</td>\n",
       "      <td>0</td>\n",
       "      <td>NaN</td>\n",
       "      <td>сыграть свадьбу</td>\n",
       "    </tr>\n",
       "    <tr>\n",
       "      <th>13</th>\n",
       "      <td>0</td>\n",
       "      <td>-1846.641941</td>\n",
       "      <td>54</td>\n",
       "      <td>неоконченное высшее</td>\n",
       "      <td>2</td>\n",
       "      <td>женат / замужем</td>\n",
       "      <td>0</td>\n",
       "      <td>F</td>\n",
       "      <td>сотрудник</td>\n",
       "      <td>0</td>\n",
       "      <td>130458.228857</td>\n",
       "      <td>приобретение автомобиля</td>\n",
       "    </tr>\n",
       "    <tr>\n",
       "      <th>14</th>\n",
       "      <td>0</td>\n",
       "      <td>-1844.956182</td>\n",
       "      <td>56</td>\n",
       "      <td>высшее</td>\n",
       "      <td>0</td>\n",
       "      <td>гражданский брак</td>\n",
       "      <td>1</td>\n",
       "      <td>F</td>\n",
       "      <td>компаньон</td>\n",
       "      <td>1</td>\n",
       "      <td>165127.911772</td>\n",
       "      <td>покупка жилой недвижимости</td>\n",
       "    </tr>\n",
       "    <tr>\n",
       "      <th>15</th>\n",
       "      <td>1</td>\n",
       "      <td>-972.364419</td>\n",
       "      <td>26</td>\n",
       "      <td>среднее</td>\n",
       "      <td>1</td>\n",
       "      <td>женат / замужем</td>\n",
       "      <td>0</td>\n",
       "      <td>F</td>\n",
       "      <td>сотрудник</td>\n",
       "      <td>0</td>\n",
       "      <td>116820.904450</td>\n",
       "      <td>строительство собственной недвижимости</td>\n",
       "    </tr>\n",
       "    <tr>\n",
       "      <th>16</th>\n",
       "      <td>0</td>\n",
       "      <td>-1719.934226</td>\n",
       "      <td>35</td>\n",
       "      <td>среднее</td>\n",
       "      <td>1</td>\n",
       "      <td>женат / замужем</td>\n",
       "      <td>0</td>\n",
       "      <td>F</td>\n",
       "      <td>сотрудник</td>\n",
       "      <td>0</td>\n",
       "      <td>289202.704229</td>\n",
       "      <td>недвижимость</td>\n",
       "    </tr>\n",
       "    <tr>\n",
       "      <th>17</th>\n",
       "      <td>0</td>\n",
       "      <td>-2369.999720</td>\n",
       "      <td>33</td>\n",
       "      <td>высшее</td>\n",
       "      <td>0</td>\n",
       "      <td>гражданский брак</td>\n",
       "      <td>1</td>\n",
       "      <td>M</td>\n",
       "      <td>сотрудник</td>\n",
       "      <td>0</td>\n",
       "      <td>90410.586745</td>\n",
       "      <td>строительство недвижимости</td>\n",
       "    </tr>\n",
       "    <tr>\n",
       "      <th>18</th>\n",
       "      <td>0</td>\n",
       "      <td>400281.136913</td>\n",
       "      <td>53</td>\n",
       "      <td>среднее</td>\n",
       "      <td>1</td>\n",
       "      <td>вдовец / вдова</td>\n",
       "      <td>2</td>\n",
       "      <td>F</td>\n",
       "      <td>пенсионер</td>\n",
       "      <td>0</td>\n",
       "      <td>56823.777243</td>\n",
       "      <td>на покупку подержанного автомобиля</td>\n",
       "    </tr>\n",
       "    <tr>\n",
       "      <th>19</th>\n",
       "      <td>0</td>\n",
       "      <td>-10038.818549</td>\n",
       "      <td>48</td>\n",
       "      <td>СРЕДНЕЕ</td>\n",
       "      <td>1</td>\n",
       "      <td>в разводе</td>\n",
       "      <td>3</td>\n",
       "      <td>F</td>\n",
       "      <td>сотрудник</td>\n",
       "      <td>0</td>\n",
       "      <td>242831.107982</td>\n",
       "      <td>на покупку своего автомобиля</td>\n",
       "    </tr>\n",
       "  </tbody>\n",
       "</table>\n",
       "</div>"
      ],
      "text/plain": [
       "    children  days_employed  dob_years            education  education_id  \\\n",
       "0          1   -8437.673028         42               высшее             0   \n",
       "1          1   -4024.803754         36              среднее             1   \n",
       "2          0   -5623.422610         33              Среднее             1   \n",
       "3          3   -4124.747207         32              среднее             1   \n",
       "4          0  340266.072047         53              среднее             1   \n",
       "5          0    -926.185831         27               высшее             0   \n",
       "6          0   -2879.202052         43               высшее             0   \n",
       "7          0    -152.779569         50              СРЕДНЕЕ             1   \n",
       "8          2   -6929.865299         35               ВЫСШЕЕ             0   \n",
       "9          0   -2188.756445         41              среднее             1   \n",
       "10         2   -4171.483647         36               высшее             0   \n",
       "11         0    -792.701887         40              среднее             1   \n",
       "12         0            NaN         65              среднее             1   \n",
       "13         0   -1846.641941         54  неоконченное высшее             2   \n",
       "14         0   -1844.956182         56               высшее             0   \n",
       "15         1    -972.364419         26              среднее             1   \n",
       "16         0   -1719.934226         35              среднее             1   \n",
       "17         0   -2369.999720         33               высшее             0   \n",
       "18         0  400281.136913         53              среднее             1   \n",
       "19         0  -10038.818549         48              СРЕДНЕЕ             1   \n",
       "\n",
       "       family_status  family_status_id gender income_type  debt  \\\n",
       "0    женат / замужем                 0      F   сотрудник     0   \n",
       "1    женат / замужем                 0      F   сотрудник     0   \n",
       "2    женат / замужем                 0      M   сотрудник     0   \n",
       "3    женат / замужем                 0      M   сотрудник     0   \n",
       "4   гражданский брак                 1      F   пенсионер     0   \n",
       "5   гражданский брак                 1      M   компаньон     0   \n",
       "6    женат / замужем                 0      F   компаньон     0   \n",
       "7    женат / замужем                 0      M   сотрудник     0   \n",
       "8   гражданский брак                 1      F   сотрудник     0   \n",
       "9    женат / замужем                 0      M   сотрудник     0   \n",
       "10   женат / замужем                 0      M   компаньон     0   \n",
       "11   женат / замужем                 0      F   сотрудник     0   \n",
       "12  гражданский брак                 1      M   пенсионер     0   \n",
       "13   женат / замужем                 0      F   сотрудник     0   \n",
       "14  гражданский брак                 1      F   компаньон     1   \n",
       "15   женат / замужем                 0      F   сотрудник     0   \n",
       "16   женат / замужем                 0      F   сотрудник     0   \n",
       "17  гражданский брак                 1      M   сотрудник     0   \n",
       "18    вдовец / вдова                 2      F   пенсионер     0   \n",
       "19         в разводе                 3      F   сотрудник     0   \n",
       "\n",
       "     total_income                                 purpose  \n",
       "0   253875.639453                           покупка жилья  \n",
       "1   112080.014102                 приобретение автомобиля  \n",
       "2   145885.952297                           покупка жилья  \n",
       "3   267628.550329              дополнительное образование  \n",
       "4   158616.077870                         сыграть свадьбу  \n",
       "5   255763.565419                           покупка жилья  \n",
       "6   240525.971920                       операции с жильем  \n",
       "7   135823.934197                             образование  \n",
       "8    95856.832424                   на проведение свадьбы  \n",
       "9   144425.938277                 покупка жилья для семьи  \n",
       "10  113943.491460                    покупка недвижимости  \n",
       "11   77069.234271       покупка коммерческой недвижимости  \n",
       "12            NaN                         сыграть свадьбу  \n",
       "13  130458.228857                 приобретение автомобиля  \n",
       "14  165127.911772              покупка жилой недвижимости  \n",
       "15  116820.904450  строительство собственной недвижимости  \n",
       "16  289202.704229                            недвижимость  \n",
       "17   90410.586745              строительство недвижимости  \n",
       "18   56823.777243      на покупку подержанного автомобиля  \n",
       "19  242831.107982            на покупку своего автомобиля  "
      ]
     },
     "execution_count": 3,
     "metadata": {},
     "output_type": "execute_result"
    }
   ],
   "source": [
    "data.head(20)"
   ]
  },
  {
   "cell_type": "markdown",
   "id": "fbe507a4",
   "metadata": {
    "deletable": false,
    "editable": false,
    "id": "1c12e233"
   },
   "source": [
    "**Задание 3. Выведите основную информацию о датафрейме с помощью метода `info()`.**"
   ]
  },
  {
   "cell_type": "code",
   "execution_count": 4,
   "id": "39c211fe",
   "metadata": {
    "deletable": false,
    "id": "2b757bca",
    "outputId": "15376089-8dad-46c9-b520-c05248d43158"
   },
   "outputs": [
    {
     "name": "stdout",
     "output_type": "stream",
     "text": [
      "<class 'pandas.core.frame.DataFrame'>\n",
      "RangeIndex: 21525 entries, 0 to 21524\n",
      "Data columns (total 12 columns):\n",
      " #   Column            Non-Null Count  Dtype  \n",
      "---  ------            --------------  -----  \n",
      " 0   children          21525 non-null  int64  \n",
      " 1   days_employed     19351 non-null  float64\n",
      " 2   dob_years         21525 non-null  int64  \n",
      " 3   education         21525 non-null  object \n",
      " 4   education_id      21525 non-null  int64  \n",
      " 5   family_status     21525 non-null  object \n",
      " 6   family_status_id  21525 non-null  int64  \n",
      " 7   gender            21525 non-null  object \n",
      " 8   income_type       21525 non-null  object \n",
      " 9   debt              21525 non-null  int64  \n",
      " 10  total_income      19351 non-null  float64\n",
      " 11  purpose           21525 non-null  object \n",
      "dtypes: float64(2), int64(5), object(5)\n",
      "memory usage: 2.0+ MB\n"
     ]
    }
   ],
   "source": [
    "data.info()"
   ]
  },
  {
   "cell_type": "markdown",
   "id": "395e7198",
   "metadata": {
    "deletable": false,
    "editable": false,
    "id": "333ec665"
   },
   "source": [
    "## Предобработка данных"
   ]
  },
  {
   "cell_type": "markdown",
   "id": "1f8e59c1",
   "metadata": {
    "deletable": false,
    "editable": false,
    "id": "02d92d53"
   },
   "source": [
    "### Удаление пропусков"
   ]
  },
  {
   "cell_type": "markdown",
   "id": "99143375",
   "metadata": {
    "deletable": false,
    "editable": false,
    "id": "cd84967c"
   },
   "source": [
    "**Задание 4. Выведите количество пропущенных значений для каждого столбца. Используйте комбинацию двух методов.**"
   ]
  },
  {
   "cell_type": "code",
   "execution_count": 5,
   "id": "172e462b",
   "metadata": {
    "deletable": false,
    "id": "7f9b2309",
    "outputId": "81f4d817-781c-465c-ed15-91ce4446810d"
   },
   "outputs": [
    {
     "data": {
      "text/plain": [
       "children               0\n",
       "days_employed       2174\n",
       "dob_years              0\n",
       "education              0\n",
       "education_id           0\n",
       "family_status          0\n",
       "family_status_id       0\n",
       "gender                 0\n",
       "income_type            0\n",
       "debt                   0\n",
       "total_income        2174\n",
       "purpose                0\n",
       "dtype: int64"
      ]
     },
     "execution_count": 5,
     "metadata": {},
     "output_type": "execute_result"
    }
   ],
   "source": [
    "data.isna().sum()"
   ]
  },
  {
   "cell_type": "markdown",
   "id": "1bc5eb00",
   "metadata": {
    "deletable": false,
    "editable": false,
    "id": "db86e27b"
   },
   "source": [
    "**Задание 5. В двух столбцах есть пропущенные значения. Один из них — `days_employed`. Пропуски в этом столбце вы обработаете на следующем этапе. Другой столбец с пропущенными значениями — `total_income` — хранит данные о доходах. На сумму дохода сильнее всего влияет тип занятости, поэтому заполнить пропуски в этом столбце нужно медианным значением по каждому типу из столбца `income_type`. Например, у человека с типом занятости `сотрудник` пропуск в столбце `total_income` должен быть заполнен медианным доходом среди всех записей с тем же типом.**"
   ]
  },
  {
   "cell_type": "code",
   "execution_count": 6,
   "id": "d483a992",
   "metadata": {
    "deletable": false,
    "id": "42006a93"
   },
   "outputs": [],
   "source": [
    "for t in data['income_type'].unique():\n",
    "    data.loc[(data['income_type'] == t) & (data['total_income'].isna()), 'total_income'] = \\\n",
    "    data.loc[(data['income_type'] == t), 'total_income'].median()"
   ]
  },
  {
   "cell_type": "markdown",
   "id": "4c89f584",
   "metadata": {
    "deletable": false,
    "editable": false,
    "id": "89da5ece"
   },
   "source": [
    "### Обработка аномальных значений"
   ]
  },
  {
   "cell_type": "markdown",
   "id": "050f7ca5",
   "metadata": {
    "deletable": false,
    "editable": false,
    "id": "57964554"
   },
   "source": [
    "**Задание 6. В данных могут встречаться артефакты (аномалии) — значения, которые не отражают действительность и появились по какой-то ошибке. таким артефактом будет отрицательное количество дней трудового стажа в столбце `days_employed`. Для реальных данных это нормально. Обработайте значения в этом столбце: замените все отрицательные значения положительными с помощью метода `abs()`.**"
   ]
  },
  {
   "cell_type": "code",
   "execution_count": 7,
   "id": "688effcb",
   "metadata": {
    "deletable": false,
    "id": "f6f055bf"
   },
   "outputs": [],
   "source": [
    "data['days_employed'] = data['days_employed'].abs()"
   ]
  },
  {
   "cell_type": "markdown",
   "id": "2e2b01d9",
   "metadata": {
    "deletable": false,
    "editable": false,
    "id": "6107dd2f"
   },
   "source": [
    "**Задание 7. Для каждого типа занятости выведите медианное значение трудового стажа `days_employed` в днях.**"
   ]
  },
  {
   "cell_type": "code",
   "execution_count": 8,
   "id": "6583f680",
   "metadata": {
    "deletable": false,
    "id": "85a5faf6",
    "outputId": "801ef80e-522b-4668-f34e-565af7432bcf"
   },
   "outputs": [
    {
     "data": {
      "text/plain": [
       "income_type\n",
       "безработный        366413.652744\n",
       "в декрете            3296.759962\n",
       "госслужащий          2689.368353\n",
       "компаньон            1547.382223\n",
       "пенсионер          365213.306266\n",
       "предприниматель       520.848083\n",
       "сотрудник            1574.202821\n",
       "студент               578.751554\n",
       "Name: days_employed, dtype: float64"
      ]
     },
     "execution_count": 8,
     "metadata": {},
     "output_type": "execute_result"
    }
   ],
   "source": [
    "data.groupby('income_type')['days_employed'].agg('median')"
   ]
  },
  {
   "cell_type": "markdown",
   "id": "fcd1f37c",
   "metadata": {
    "deletable": false,
    "editable": false,
    "id": "38d1a030"
   },
   "source": [
    "У двух типов (безработные и пенсионеры) получатся аномально большие значения. Исправить такие значения сложно, поэтому оставьте их как есть. Тем более этот столбец не понадобится вам для исследования."
   ]
  },
  {
   "cell_type": "markdown",
   "id": "d4e15c15",
   "metadata": {
    "deletable": false,
    "editable": false,
    "id": "d8a9f147"
   },
   "source": [
    "**Задание 8. Выведите перечень уникальных значений столбца `children`.**"
   ]
  },
  {
   "cell_type": "code",
   "execution_count": 9,
   "id": "985067b1",
   "metadata": {
    "deletable": false,
    "id": "ef5056eb",
    "outputId": "6975b15c-7f95-4697-d16d-a0c79b657b03"
   },
   "outputs": [
    {
     "data": {
      "text/plain": [
       "array([ 1,  0,  3,  2, -1,  4, 20,  5])"
      ]
     },
     "execution_count": 9,
     "metadata": {},
     "output_type": "execute_result"
    }
   ],
   "source": [
    "data['children'].unique()"
   ]
  },
  {
   "cell_type": "markdown",
   "id": "e8b7e292",
   "metadata": {
    "deletable": false,
    "editable": false,
    "id": "40b9ebf2"
   },
   "source": [
    "**Задание 9. В столбце `children` есть два аномальных значения. Удалите строки, в которых встречаются такие аномальные значения из датафрейма `data`.**"
   ]
  },
  {
   "cell_type": "code",
   "execution_count": 10,
   "id": "a2f586e0",
   "metadata": {
    "deletable": false,
    "id": "3ff9801d"
   },
   "outputs": [],
   "source": [
    "data = data[(data['children'] != -1) & (data['children'] != 20)]"
   ]
  },
  {
   "cell_type": "markdown",
   "id": "2eae6dcd",
   "metadata": {
    "deletable": false,
    "editable": false,
    "id": "bbc4d0ce"
   },
   "source": [
    "**Задание 10. Ещё раз выведите перечень уникальных значений столбца `children`, чтобы убедиться, что артефакты удалены.**"
   ]
  },
  {
   "cell_type": "code",
   "execution_count": 11,
   "id": "117c3c3a",
   "metadata": {
    "deletable": false,
    "id": "ad4fa8b7",
    "outputId": "b2097101-d49d-44d9-901b-32a65c9463d1"
   },
   "outputs": [
    {
     "data": {
      "text/plain": [
       "array([1, 0, 3, 2, 4, 5])"
      ]
     },
     "execution_count": 11,
     "metadata": {},
     "output_type": "execute_result"
    }
   ],
   "source": [
    "data['children'].unique()"
   ]
  },
  {
   "cell_type": "markdown",
   "id": "8d4c187b",
   "metadata": {
    "deletable": false,
    "editable": false,
    "id": "75440b63"
   },
   "source": [
    "### Удаление пропусков (продолжение)"
   ]
  },
  {
   "cell_type": "markdown",
   "id": "65663c6a",
   "metadata": {
    "deletable": false,
    "editable": false,
    "id": "f4ea573f"
   },
   "source": [
    "**Задание 11. Заполните пропуски в столбце `days_employed` медианными значениями по каждого типа занятости `income_type`.**"
   ]
  },
  {
   "cell_type": "code",
   "execution_count": 12,
   "id": "50e26a2c",
   "metadata": {
    "deletable": false,
    "id": "af6b1a7e"
   },
   "outputs": [],
   "source": [
    "for t in data['income_type'].unique():\n",
    "    data.loc[(data['income_type'] == t) & (data['days_employed'].isna()), 'days_employed'] = \\\n",
    "    data.loc[(data['income_type'] == t), 'days_employed'].median()"
   ]
  },
  {
   "cell_type": "markdown",
   "id": "5c456822",
   "metadata": {
    "deletable": false,
    "editable": false,
    "id": "2753f40d"
   },
   "source": [
    "**Задание 12. Убедитесь, что все пропуски заполнены. Проверьте себя и ещё раз выведите количество пропущенных значений для каждого столбца с помощью двух методов.**"
   ]
  },
  {
   "cell_type": "code",
   "execution_count": 13,
   "id": "b5296590",
   "metadata": {
    "deletable": false,
    "id": "55f78bc2",
    "outputId": "8da1e4e1-358e-4e87-98c9-f261bce0a7b2"
   },
   "outputs": [
    {
     "data": {
      "text/plain": [
       "children            0\n",
       "days_employed       0\n",
       "dob_years           0\n",
       "education           0\n",
       "education_id        0\n",
       "family_status       0\n",
       "family_status_id    0\n",
       "gender              0\n",
       "income_type         0\n",
       "debt                0\n",
       "total_income        0\n",
       "purpose             0\n",
       "dtype: int64"
      ]
     },
     "execution_count": 13,
     "metadata": {},
     "output_type": "execute_result"
    }
   ],
   "source": [
    "data.isna().sum()"
   ]
  },
  {
   "cell_type": "markdown",
   "id": "4a71c59a",
   "metadata": {
    "deletable": false,
    "editable": false,
    "id": "ddc81e43"
   },
   "source": [
    "### Изменение типов данных"
   ]
  },
  {
   "cell_type": "markdown",
   "id": "b560b473",
   "metadata": {
    "deletable": false,
    "editable": false,
    "id": "42d19d24"
   },
   "source": [
    "**Задание 13. Замените вещественный тип данных в столбце `total_income` на целочисленный с помощью метода `astype()`.**"
   ]
  },
  {
   "cell_type": "code",
   "execution_count": 14,
   "id": "d2a0e51d",
   "metadata": {
    "deletable": false,
    "id": "920b65ad"
   },
   "outputs": [],
   "source": [
    "data['total_income'] = data['total_income'].astype(int)"
   ]
  },
  {
   "cell_type": "markdown",
   "id": "ae14820a",
   "metadata": {
    "deletable": false,
    "editable": false,
    "id": "80c420ba"
   },
   "source": [
    "### Обработка дубликатов"
   ]
  },
  {
   "cell_type": "markdown",
   "id": "4efbd036",
   "metadata": {
    "deletable": false,
    "editable": false
   },
   "source": [
    "**Задание 14. Обработайте неявные дубликаты в столбце `education`. В этом столбце есть одни и те же значения, но записанные по-разному: с использованием заглавных и строчных букв. Приведите их к нижнему регистру. Проверьте остальные столбцы.**"
   ]
  },
  {
   "cell_type": "code",
   "execution_count": 15,
   "id": "1725da66",
   "metadata": {
    "deletable": false
   },
   "outputs": [],
   "source": [
    "data['education'] = data['education'].str.lower()"
   ]
  },
  {
   "cell_type": "markdown",
   "id": "3a7d9d42",
   "metadata": {
    "deletable": false,
    "editable": false,
    "id": "dc587695"
   },
   "source": [
    "**Задание 15. Выведите на экран количество строк-дубликатов в данных. Если такие строки присутствуют, удалите их.**"
   ]
  },
  {
   "cell_type": "code",
   "execution_count": 16,
   "id": "ce767118",
   "metadata": {
    "deletable": false,
    "id": "3ee445e4",
    "outputId": "9684deba-1934-42d1-99e1-cda61740f822"
   },
   "outputs": [
    {
     "data": {
      "text/plain": [
       "71"
      ]
     },
     "execution_count": 16,
     "metadata": {},
     "output_type": "execute_result"
    }
   ],
   "source": [
    "data.duplicated().sum()"
   ]
  },
  {
   "cell_type": "code",
   "execution_count": 17,
   "id": "0a3985aa",
   "metadata": {
    "deletable": false,
    "id": "8575fe05"
   },
   "outputs": [],
   "source": [
    "data = data.drop_duplicates()"
   ]
  },
  {
   "cell_type": "markdown",
   "id": "f3b6044c",
   "metadata": {
    "deletable": false,
    "editable": false,
    "id": "9904cf55"
   },
   "source": [
    "### Категоризация данных"
   ]
  },
  {
   "cell_type": "markdown",
   "id": "ce814e75",
   "metadata": {
    "deletable": false,
    "editable": false,
    "id": "72fcc8a2"
   },
   "source": [
    "**Задание 16. На основании диапазонов, указанных ниже, создайте в датафрейме `data` столбец `total_income_category` с категориями:**\n",
    "\n",
    "- 0–30000 — `'E'`;\n",
    "- 30001–50000 — `'D'`;\n",
    "- 50001–200000 — `'C'`;\n",
    "- 200001–1000000 — `'B'`;\n",
    "- 1000001 и выше — `'A'`.\n",
    "\n",
    "\n",
    "**Например, кредитополучателю с доходом 25000 нужно назначить категорию `'E'`, а клиенту, получающему 235000, — `'B'`. Используйте собственную функцию с именем `categorize_income()` и метод `apply()`.**"
   ]
  },
  {
   "cell_type": "code",
   "execution_count": 18,
   "id": "0862c780",
   "metadata": {
    "deletable": false,
    "id": "e1771346"
   },
   "outputs": [],
   "source": [
    "def categorize_income(income):\n",
    "    try:\n",
    "        if 0 <= income <= 30000:\n",
    "            return 'E'\n",
    "        elif 30001 <= income <= 50000:\n",
    "            return 'D'\n",
    "        elif 50001 <= income <= 200000:\n",
    "            return 'C'\n",
    "        elif 200001 <= income <= 1000000:\n",
    "            return 'B'\n",
    "        elif income >= 1000001:\n",
    "            return 'A'\n",
    "    except:\n",
    "        pass"
   ]
  },
  {
   "cell_type": "code",
   "execution_count": 19,
   "id": "dc1d1283",
   "metadata": {
    "deletable": false,
    "id": "d5f3586d"
   },
   "outputs": [],
   "source": [
    "data['total_income_category'] = data['total_income'].apply(categorize_income)"
   ]
  },
  {
   "cell_type": "markdown",
   "id": "6ac02f45",
   "metadata": {
    "deletable": false,
    "editable": false,
    "id": "dde49b5c"
   },
   "source": [
    "**Задание 17. Выведите на экран перечень уникальных целей взятия кредита из столбца `purpose`.**"
   ]
  },
  {
   "cell_type": "code",
   "execution_count": 20,
   "id": "33bd7811",
   "metadata": {
    "deletable": false,
    "id": "f67ce9b3",
    "outputId": "673c12d9-7d7e-4ae0-9812-c622c89dd244"
   },
   "outputs": [
    {
     "data": {
      "text/plain": [
       "array(['покупка жилья', 'приобретение автомобиля',\n",
       "       'дополнительное образование', 'сыграть свадьбу',\n",
       "       'операции с жильем', 'образование', 'на проведение свадьбы',\n",
       "       'покупка жилья для семьи', 'покупка недвижимости',\n",
       "       'покупка коммерческой недвижимости', 'покупка жилой недвижимости',\n",
       "       'строительство собственной недвижимости', 'недвижимость',\n",
       "       'строительство недвижимости', 'на покупку подержанного автомобиля',\n",
       "       'на покупку своего автомобиля',\n",
       "       'операции с коммерческой недвижимостью',\n",
       "       'строительство жилой недвижимости', 'жилье',\n",
       "       'операции со своей недвижимостью', 'автомобили',\n",
       "       'заняться образованием', 'сделка с подержанным автомобилем',\n",
       "       'получение образования', 'автомобиль', 'свадьба',\n",
       "       'получение дополнительного образования', 'покупка своего жилья',\n",
       "       'операции с недвижимостью', 'получение высшего образования',\n",
       "       'свой автомобиль', 'сделка с автомобилем',\n",
       "       'профильное образование', 'высшее образование',\n",
       "       'покупка жилья для сдачи', 'на покупку автомобиля', 'ремонт жилью',\n",
       "       'заняться высшим образованием'], dtype=object)"
      ]
     },
     "execution_count": 20,
     "metadata": {},
     "output_type": "execute_result"
    }
   ],
   "source": [
    "data['purpose'].unique()"
   ]
  },
  {
   "cell_type": "markdown",
   "id": "5ecd1b31",
   "metadata": {
    "deletable": false,
    "editable": false,
    "id": "85d0aef0"
   },
   "source": [
    "**Задание 18. Создайте функцию, которая на основании данных из столбца `purpose` сформирует новый столбец `purpose_category`, в который войдут следующие категории:**\n",
    "\n",
    "- `'операции с автомобилем'`,\n",
    "- `'операции с недвижимостью'`,\n",
    "- `'проведение свадьбы'`,\n",
    "- `'получение образования'`.\n",
    "\n",
    "**Например, если в столбце `purpose` находится подстрока `'на покупку автомобиля'`, то в столбце `purpose_category` должна появиться строка `'операции с автомобилем'`.**\n",
    "\n",
    "**Используйте собственную функцию с именем `categorize_purpose()` и метод `apply()`. Изучите данные в столбце `purpose` и определите, какие подстроки помогут вам правильно определить категорию.**"
   ]
  },
  {
   "cell_type": "code",
   "execution_count": 21,
   "id": "0f809f5d",
   "metadata": {
    "deletable": false,
    "id": "e149fab4"
   },
   "outputs": [],
   "source": [
    "def categorize_purpose(row):\n",
    "    try:\n",
    "        if 'автом' in row:\n",
    "            return 'операции с автомобилем'\n",
    "        elif 'жил' in row or 'недвиж' in row:\n",
    "            return 'операции с недвижимостью'\n",
    "        elif 'свад' in row:\n",
    "            return 'проведение свадьбы'\n",
    "        elif 'образов' in row:\n",
    "            return 'получение образования'\n",
    "    except:\n",
    "        return 'нет категории'"
   ]
  },
  {
   "cell_type": "code",
   "execution_count": 22,
   "id": "ef167168",
   "metadata": {
    "deletable": false,
    "id": "bf36e69b"
   },
   "outputs": [],
   "source": [
    "data['purpose_category'] = data['purpose'].apply(categorize_purpose)"
   ]
  },
  {
   "cell_type": "markdown",
   "id": "55828c9d",
   "metadata": {
    "deletable": false,
    "editable": false,
    "id": "09b242bf"
   },
   "source": [
    "### Шаг 3. Исследуйте данные и ответьте на вопросы"
   ]
  },
  {
   "cell_type": "markdown",
   "id": "8b0f3107",
   "metadata": {
    "deletable": false,
    "editable": false,
    "id": "c5d66278"
   },
   "source": [
    "#### 3.1 Есть ли зависимость между количеством детей и возвратом кредита в срок?"
   ]
  },
  {
   "cell_type": "code",
   "execution_count": 23,
   "id": "08a6d132",
   "metadata": {
    "deletable": false,
    "id": "2cacfc4a"
   },
   "outputs": [],
   "source": [
    "table = 'children'# Создана переменная для постановки столбца, который исследуем."
   ]
  },
  {
   "cell_type": "code",
   "execution_count": 24,
   "id": "4173ff26",
   "metadata": {},
   "outputs": [],
   "source": [
    "def func(group):# Назвали функцию и передаем функции имя столбца,\n",
    "    return data.groupby(table)['debt'].agg(['count','sum','mean'])# Групируем новые столбцы.\n",
    "# Агрегируем для получения сводки данных столбцов: Кличество раз, сумма должников, среднее значение. "
   ]
  },
  {
   "cell_type": "code",
   "execution_count": 25,
   "id": "c2dca8ad",
   "metadata": {},
   "outputs": [],
   "source": [
    "group = data[table].apply(func)# Передали функцию и применили её к значениям столбца. "
   ]
  },
  {
   "cell_type": "code",
   "execution_count": 26,
   "id": "10c0e650",
   "metadata": {},
   "outputs": [
    {
     "data": {
      "text/html": [
       "<div>\n",
       "<style scoped>\n",
       "    .dataframe tbody tr th:only-of-type {\n",
       "        vertical-align: middle;\n",
       "    }\n",
       "\n",
       "    .dataframe tbody tr th {\n",
       "        vertical-align: top;\n",
       "    }\n",
       "\n",
       "    .dataframe thead th {\n",
       "        text-align: right;\n",
       "    }\n",
       "</style>\n",
       "<table border=\"1\" class=\"dataframe\">\n",
       "  <thead>\n",
       "    <tr style=\"text-align: right;\">\n",
       "      <th></th>\n",
       "      <th>count</th>\n",
       "      <th>sum</th>\n",
       "      <th>mean</th>\n",
       "    </tr>\n",
       "    <tr>\n",
       "      <th>children</th>\n",
       "      <th></th>\n",
       "      <th></th>\n",
       "      <th></th>\n",
       "    </tr>\n",
       "  </thead>\n",
       "  <tbody>\n",
       "    <tr>\n",
       "      <th>0</th>\n",
       "      <td>14091</td>\n",
       "      <td>1063</td>\n",
       "      <td>0.075438</td>\n",
       "    </tr>\n",
       "    <tr>\n",
       "      <th>1</th>\n",
       "      <td>4808</td>\n",
       "      <td>444</td>\n",
       "      <td>0.092346</td>\n",
       "    </tr>\n",
       "    <tr>\n",
       "      <th>2</th>\n",
       "      <td>2052</td>\n",
       "      <td>194</td>\n",
       "      <td>0.094542</td>\n",
       "    </tr>\n",
       "    <tr>\n",
       "      <th>3</th>\n",
       "      <td>330</td>\n",
       "      <td>27</td>\n",
       "      <td>0.081818</td>\n",
       "    </tr>\n",
       "    <tr>\n",
       "      <th>4</th>\n",
       "      <td>41</td>\n",
       "      <td>4</td>\n",
       "      <td>0.097561</td>\n",
       "    </tr>\n",
       "    <tr>\n",
       "      <th>5</th>\n",
       "      <td>9</td>\n",
       "      <td>0</td>\n",
       "      <td>0.000000</td>\n",
       "    </tr>\n",
       "  </tbody>\n",
       "</table>\n",
       "</div>"
      ],
      "text/plain": [
       "          count   sum      mean\n",
       "children                       \n",
       "0         14091  1063  0.075438\n",
       "1          4808   444  0.092346\n",
       "2          2052   194  0.094542\n",
       "3           330    27  0.081818\n",
       "4            41     4  0.097561\n",
       "5             9     0  0.000000"
      ]
     },
     "execution_count": 26,
     "metadata": {},
     "output_type": "execute_result"
    }
   ],
   "source": [
    "func(group)# Вывод функции на экран."
   ]
  },
  {
   "cell_type": "markdown",
   "id": "6105cde6",
   "metadata": {
    "deletable": false,
    "id": "3a6b99ec"
   },
   "source": [
    "**Вывод:** из таблицы видно следующее - возврат кредита в срок связан с количеством детей\n",
    "у заемщиков.\n",
    " - Заёмщики без детей, чаще возвращяют кредит в срок. Финансовая нагрузка меньше.\n",
    " - Заёмщики у которых есть 1,2,3 и 4 ребёнка, имеют больше просрочек по кредитам. Возможно \n",
    " это связано с большей финансовой нагрузкой.\n",
    " - Заёмщики у которых 5 детей, не имеют просрочек по возврату кредита. Выборка по данной группе\n",
    "  заёмщиков небольшая, вывод может быть не точным!"
   ]
  },
  {
   "cell_type": "markdown",
   "id": "8d7a69ef",
   "metadata": {
    "deletable": false,
    "editable": false,
    "id": "97be82ca"
   },
   "source": [
    "#### 3.2 Есть ли зависимость между семейным положением и возвратом кредита в срок?"
   ]
  },
  {
   "cell_type": "code",
   "execution_count": 27,
   "id": "6cbcd2e5",
   "metadata": {
    "deletable": false,
    "id": "dc3f7ee8"
   },
   "outputs": [],
   "source": [
    "family_group = data.groupby('family_status')['debt'].agg(['count','sum','mean'])# Ваш код будет здесь. Вы можете создавать новые ячейки."
   ]
  },
  {
   "cell_type": "code",
   "execution_count": 28,
   "id": "4e68b350",
   "metadata": {},
   "outputs": [],
   "source": [
    "family_group.rename(columns={'count': 'Всего заёмщиков', 'sum': 'Кол-во должников', \n",
    "'mean': 'Доля должников'}, inplace=True)# Заменяем название столбцов."
   ]
  },
  {
   "cell_type": "code",
   "execution_count": 29,
   "id": "477af623",
   "metadata": {},
   "outputs": [
    {
     "data": {
      "text/html": [
       "<div>\n",
       "<style scoped>\n",
       "    .dataframe tbody tr th:only-of-type {\n",
       "        vertical-align: middle;\n",
       "    }\n",
       "\n",
       "    .dataframe tbody tr th {\n",
       "        vertical-align: top;\n",
       "    }\n",
       "\n",
       "    .dataframe thead th {\n",
       "        text-align: right;\n",
       "    }\n",
       "</style>\n",
       "<table border=\"1\" class=\"dataframe\">\n",
       "  <thead>\n",
       "    <tr style=\"text-align: right;\">\n",
       "      <th></th>\n",
       "      <th>Всего заёмщиков</th>\n",
       "      <th>Кол-во должников</th>\n",
       "      <th>Доля должников</th>\n",
       "    </tr>\n",
       "    <tr>\n",
       "      <th>family_status</th>\n",
       "      <th></th>\n",
       "      <th></th>\n",
       "      <th></th>\n",
       "    </tr>\n",
       "  </thead>\n",
       "  <tbody>\n",
       "    <tr>\n",
       "      <th>Не женат / не замужем</th>\n",
       "      <td>2796</td>\n",
       "      <td>273</td>\n",
       "      <td>0.097639</td>\n",
       "    </tr>\n",
       "    <tr>\n",
       "      <th>в разводе</th>\n",
       "      <td>1189</td>\n",
       "      <td>84</td>\n",
       "      <td>0.070648</td>\n",
       "    </tr>\n",
       "    <tr>\n",
       "      <th>вдовец / вдова</th>\n",
       "      <td>951</td>\n",
       "      <td>63</td>\n",
       "      <td>0.066246</td>\n",
       "    </tr>\n",
       "    <tr>\n",
       "      <th>гражданский брак</th>\n",
       "      <td>4134</td>\n",
       "      <td>385</td>\n",
       "      <td>0.093130</td>\n",
       "    </tr>\n",
       "    <tr>\n",
       "      <th>женат / замужем</th>\n",
       "      <td>12261</td>\n",
       "      <td>927</td>\n",
       "      <td>0.075606</td>\n",
       "    </tr>\n",
       "  </tbody>\n",
       "</table>\n",
       "</div>"
      ],
      "text/plain": [
       "                       Всего заёмщиков  Кол-во должников  Доля должников\n",
       "family_status                                                           \n",
       "Не женат / не замужем             2796               273        0.097639\n",
       "в разводе                         1189                84        0.070648\n",
       "вдовец / вдова                     951                63        0.066246\n",
       "гражданский брак                  4134               385        0.093130\n",
       "женат / замужем                  12261               927        0.075606"
      ]
     },
     "execution_count": 29,
     "metadata": {},
     "output_type": "execute_result"
    }
   ],
   "source": [
    "family_group"
   ]
  },
  {
   "cell_type": "markdown",
   "id": "73d0c155",
   "metadata": {
    "deletable": false,
    "id": "1cef7837"
   },
   "source": [
    "**Вывод:** на основании данных таблицы можно сделать следующее заключение -\n",
    "заёмщики находящиеся в категориях: \"не женат / не замужем\", \"гражданский брак\", имеют приблизительно одинаковую долю не возврата кредита, которая является высокой в данной таблице. Возможно в данной категории заёмщиков, больше клиентов не готовых к серьёзным отношениям, и принятию на себя большей ответственности.\n",
    " -   Заёмщиков находящихся в категориях: \"вдовец/вдова\",  \"в разводе\", \"женат / замужем\",\n",
    "можно соотнести в одну группу по доли не возврата кредита. Доля не возврата кредита в срок, в данной группе является наименьшей.\n",
    " -   Исходя из этой информации делаем вывод, что семейное положение заёмщиков влияет на возврат \n",
    "кредита в срок.    "
   ]
  },
  {
   "cell_type": "markdown",
   "id": "ef1af31d",
   "metadata": {
    "deletable": false,
    "editable": false,
    "id": "1e8b2fca"
   },
   "source": [
    "#### 3.3 Есть ли зависимость между уровнем дохода и возвратом кредита в срок?"
   ]
  },
  {
   "cell_type": "code",
   "execution_count": 30,
   "id": "d63186f1",
   "metadata": {},
   "outputs": [],
   "source": [
    "data['total_income_category'] = data['total_income'].apply(categorize_income)"
   ]
  },
  {
   "cell_type": "code",
   "execution_count": 31,
   "id": "82e8fe9c",
   "metadata": {},
   "outputs": [],
   "source": [
    "totincdebt = data.groupby('total_income_category')['debt'].agg(['count','sum','mean'])"
   ]
  },
  {
   "cell_type": "code",
   "execution_count": 32,
   "id": "6ba39ff1",
   "metadata": {},
   "outputs": [],
   "source": [
    "totincdebt.rename(columns={'count': 'Всего заёмщиков', 'sum': 'Кол-во должников', \n",
    "'mean': 'Доля должников'}, inplace=True)"
   ]
  },
  {
   "cell_type": "code",
   "execution_count": 33,
   "id": "df17d0bf",
   "metadata": {},
   "outputs": [
    {
     "data": {
      "text/html": [
       "<div>\n",
       "<style scoped>\n",
       "    .dataframe tbody tr th:only-of-type {\n",
       "        vertical-align: middle;\n",
       "    }\n",
       "\n",
       "    .dataframe tbody tr th {\n",
       "        vertical-align: top;\n",
       "    }\n",
       "\n",
       "    .dataframe thead th {\n",
       "        text-align: right;\n",
       "    }\n",
       "</style>\n",
       "<table border=\"1\" class=\"dataframe\">\n",
       "  <thead>\n",
       "    <tr style=\"text-align: right;\">\n",
       "      <th></th>\n",
       "      <th>Всего заёмщиков</th>\n",
       "      <th>Кол-во должников</th>\n",
       "      <th>Доля должников</th>\n",
       "    </tr>\n",
       "    <tr>\n",
       "      <th>total_income_category</th>\n",
       "      <th></th>\n",
       "      <th></th>\n",
       "      <th></th>\n",
       "    </tr>\n",
       "  </thead>\n",
       "  <tbody>\n",
       "    <tr>\n",
       "      <th>A</th>\n",
       "      <td>25</td>\n",
       "      <td>2</td>\n",
       "      <td>0.080000</td>\n",
       "    </tr>\n",
       "    <tr>\n",
       "      <th>B</th>\n",
       "      <td>5014</td>\n",
       "      <td>354</td>\n",
       "      <td>0.070602</td>\n",
       "    </tr>\n",
       "    <tr>\n",
       "      <th>C</th>\n",
       "      <td>15921</td>\n",
       "      <td>1353</td>\n",
       "      <td>0.084982</td>\n",
       "    </tr>\n",
       "    <tr>\n",
       "      <th>D</th>\n",
       "      <td>349</td>\n",
       "      <td>21</td>\n",
       "      <td>0.060172</td>\n",
       "    </tr>\n",
       "    <tr>\n",
       "      <th>E</th>\n",
       "      <td>22</td>\n",
       "      <td>2</td>\n",
       "      <td>0.090909</td>\n",
       "    </tr>\n",
       "  </tbody>\n",
       "</table>\n",
       "</div>"
      ],
      "text/plain": [
       "                       Всего заёмщиков  Кол-во должников  Доля должников\n",
       "total_income_category                                                   \n",
       "A                                   25                 2        0.080000\n",
       "B                                 5014               354        0.070602\n",
       "C                                15921              1353        0.084982\n",
       "D                                  349                21        0.060172\n",
       "E                                   22                 2        0.090909"
      ]
     },
     "execution_count": 33,
     "metadata": {},
     "output_type": "execute_result"
    }
   ],
   "source": [
    "totincdebt"
   ]
  },
  {
   "cell_type": "markdown",
   "id": "f7b7ace3",
   "metadata": {
    "deletable": false,
    "id": "e8593def"
   },
   "source": [
    "**Вывод:** из таблицы видим - количество заёмщиков в категориях \"B\" и \"C\" является \n",
    "достаточно большими. Тем самым вывод будет более точным. Процент не возврата в срок\n",
    "небольщой. С данными категориями заёмщиков можно работать.\n",
    "- В категориях \"A\", \"D\" и \"E\" количество заёмщиков небольшое, вывод будет не точен. Анализ \n",
    "по данным категория проводить не будем.\n",
    "-  Зависимость между уровнем дохода и возвратом кредита в срок есть."
   ]
  },
  {
   "cell_type": "markdown",
   "id": "1d16c663",
   "metadata": {
    "deletable": false,
    "editable": false,
    "id": "99ecbd1f"
   },
   "source": [
    "#### 3.4 Как разные цели кредита влияют на его возврат в срок?"
   ]
  },
  {
   "cell_type": "code",
   "execution_count": 34,
   "id": "41285072",
   "metadata": {
    "deletable": false,
    "id": "2b687290"
   },
   "outputs": [],
   "source": [
    "purpose_group = data.groupby('purpose_category')['debt'].agg(['count','sum','mean'])# Ваш код будет здесь. Вы можете создавать новые ячейки."
   ]
  },
  {
   "cell_type": "code",
   "execution_count": 35,
   "id": "fe8d766f",
   "metadata": {},
   "outputs": [],
   "source": [
    "purpose_group.rename(columns={'count': 'Всего заёмщиков', 'sum': 'Кол-во должников', \n",
    "'mean': 'Доля должников'}, inplace=True)"
   ]
  },
  {
   "cell_type": "code",
   "execution_count": 36,
   "id": "25c61d9c",
   "metadata": {},
   "outputs": [
    {
     "data": {
      "text/html": [
       "<div>\n",
       "<style scoped>\n",
       "    .dataframe tbody tr th:only-of-type {\n",
       "        vertical-align: middle;\n",
       "    }\n",
       "\n",
       "    .dataframe tbody tr th {\n",
       "        vertical-align: top;\n",
       "    }\n",
       "\n",
       "    .dataframe thead th {\n",
       "        text-align: right;\n",
       "    }\n",
       "</style>\n",
       "<table border=\"1\" class=\"dataframe\">\n",
       "  <thead>\n",
       "    <tr style=\"text-align: right;\">\n",
       "      <th></th>\n",
       "      <th>Всего заёмщиков</th>\n",
       "      <th>Кол-во должников</th>\n",
       "      <th>Доля должников</th>\n",
       "    </tr>\n",
       "    <tr>\n",
       "      <th>purpose_category</th>\n",
       "      <th></th>\n",
       "      <th></th>\n",
       "      <th></th>\n",
       "    </tr>\n",
       "  </thead>\n",
       "  <tbody>\n",
       "    <tr>\n",
       "      <th>операции с автомобилем</th>\n",
       "      <td>4279</td>\n",
       "      <td>400</td>\n",
       "      <td>0.093480</td>\n",
       "    </tr>\n",
       "    <tr>\n",
       "      <th>операции с недвижимостью</th>\n",
       "      <td>10751</td>\n",
       "      <td>780</td>\n",
       "      <td>0.072551</td>\n",
       "    </tr>\n",
       "    <tr>\n",
       "      <th>получение образования</th>\n",
       "      <td>3988</td>\n",
       "      <td>369</td>\n",
       "      <td>0.092528</td>\n",
       "    </tr>\n",
       "    <tr>\n",
       "      <th>проведение свадьбы</th>\n",
       "      <td>2313</td>\n",
       "      <td>183</td>\n",
       "      <td>0.079118</td>\n",
       "    </tr>\n",
       "  </tbody>\n",
       "</table>\n",
       "</div>"
      ],
      "text/plain": [
       "                          Всего заёмщиков  Кол-во должников  Доля должников\n",
       "purpose_category                                                           \n",
       "операции с автомобилем               4279               400        0.093480\n",
       "операции с недвижимостью            10751               780        0.072551\n",
       "получение образования                3988               369        0.092528\n",
       "проведение свадьбы                   2313               183        0.079118"
      ]
     },
     "execution_count": 36,
     "metadata": {},
     "output_type": "execute_result"
    }
   ],
   "source": [
    "purpose_group"
   ]
  },
  {
   "cell_type": "markdown",
   "id": "3722580b",
   "metadata": {
    "deletable": false,
    "id": "b4bb2ce6"
   },
   "source": [
    "**Вывод:** данные категории, можно разбить на две группы по показателям столбца \"Доля должников\".\n",
    "\"Группа один\" - \"операции с автомобилем\" и \"получение образования\", показатели являются максимальными.\n",
    "\"Группа два\" -  \"операции  с недвидимостью\" и \"проведение свадьбы\", показатели столбца \"Доля должников\",\n",
    "данной группы, приравняем к минимальным.\n",
    "- Клиенты из \"Группы один\", не всегда точно могут просчитать свои возможности.\n",
    "- Клиенты из \"Группы два\", люди более отвтственные, и могут более точно просчитать свои возможности.\n",
    "- По данным из таблицы видно, что разные цели кредита влияют на его возврат в срок.\n",
    " "
   ]
  },
  {
   "cell_type": "markdown",
   "id": "18d72031",
   "metadata": {
    "deletable": false,
    "id": "9da2ceda"
   },
   "source": [
    "*Ответ:* пользователь не указал о себе какие-нибудь сведения или автоматизированная система сбора информации дала сбой. Иногда пропуски оставляют умышленно, рассчитывая на автозаполнение спецсимволами. Возникают во время копирования, считывания или записи данных, изменения формата файла.\n",
    "Вызванные человеческим фактором. Люди постоянно ошибаются. "
   ]
  },
  {
   "cell_type": "markdown",
   "id": "db02cb2d",
   "metadata": {
    "deletable": false,
    "editable": false,
    "id": "09c3ac4c"
   },
   "source": [
    "#### 3.5 Приведите возможные причины появления пропусков в исходных данных."
   ]
  },
  {
   "cell_type": "markdown",
   "id": "c642cd8c",
   "metadata": {
    "deletable": false,
    "editable": false,
    "id": "7b0487d6"
   },
   "source": [
    "#### 3.6 Объясните, почему заполнить пропуски медианным значением — лучшее решение для количественных переменных."
   ]
  },
  {
   "cell_type": "markdown",
   "id": "0bd0a908",
   "metadata": {
    "deletable": false,
    "id": "7ecf2b8e"
   },
   "source": [
    "*Ответ:* медиана более независимая характеристика, так как на нее не влияют случайные выбросы и шум. К тому же, если данные имеют нормальное распределение и их количество велико, то медиана будет равняться среднему значению.  "
   ]
  },
  {
   "cell_type": "markdown",
   "id": "3322e62e",
   "metadata": {
    "deletable": false,
    "editable": false,
    "id": "6db5255a"
   },
   "source": [
    "### Шаг 4: общий вывод."
   ]
  },
  {
   "cell_type": "markdown",
   "id": "d2d8f63b",
   "metadata": {
    "deletable": false,
    "id": "bad65432"
   },
   "source": [
    "   В результате исследовани была изучена таблица с данными, в которой были выявлены пропуски, \n",
    "аномальные значния и дубликаты. Был заменён вещественный тип данных на целостный. Были выявлены пропуски и заменены медианным значением. Аномальные отрицательные значения, были заменены положительными. Были выявлены неявные дубликаты и приведены к нижнему регистру. Были выявлены \n",
    "явные дубликаты и удалены. На основании доходов заёмщиков, было  создано 5 категорий по уровню \n",
    "дохода. Большой перечень уникальных целей был объеденён в 4 основные категории.\n",
    "   Иследование возврата кредита в срок проводилось по следующим параметрам заёмщиков: \n",
    "количество детей в семье заёмщика, семейное положение заёмщика, уровень дохода и цель зайиа.\n",
    "Исходя из результатов, проведённого иследования, можно сделать следующие выводы, что\n",
    "выдача кредита потенциальным клиентам предпочтительнее:\n",
    "- заёмщикам без детей,\n",
    "- заёмщиков находящихся в категориях семейного положения: \"вдовец/вдова\", \"в разводе\", \"женат / замужем\",\n",
    "- количество заёмщиков в категориях \"доход 200 т.р-1 млн\" и \"доход 50-200 т.р\" является достаточно большим. Возват кредита в срок у данных категорий заёмщиков достаточно большой. Процент не возврата в срок менее 9 процентов, Суммы кредита у них будут большими. С данными категориями можно работать.\n",
    "- категории зёмщиков с доходом 30-50 т.р , категория более 1 млн,  и до 30 т.р . количество заёмщиков небольшое, вывод будет не точен. По данным категориям анализ данных не проводился. \n",
    "Клиенты получающие кредит для операций с недвидимостью и проведением свадьбы, люди более ответственные, и могут более точно просчитать свои возможности.\n",
    "-    Для улучшения сбора данных банку можно применить следующие методики: \n",
    "-Объяснить людям, зачем собираете данные. Человек скорее поделится информацией, если понимает, какую пользу от этого получит. А еще пользователям спокойнее, когда они знают, как компания использует данные.\n",
    "-Оставить свободу для обмана (да-да!). Если человек не хочет оставлять настоящие данные, он все равно так или иначе перехитрит машину. Никакие проверки не помогут. Лучше разрешить откровенный мусор, чем провоцировать ввод похожих на правду фейков вроде «Иван Кузнецов».\n",
    "-Бонус как принцип постоянного улучшения качества данных.\n",
    "-Развивать систему метрик и алгоритмы обработки клиентских данных."
   ]
  },
  {
   "cell_type": "markdown",
   "id": "0665a009",
   "metadata": {
    "deletable": false,
    "id": "cd7e3720"
   },
   "source": []
  }
 ],
 "metadata": {
  "ExecuteTimeLog": [
   {
    "duration": 509,
    "start_time": "2022-11-25T21:10:30.169Z"
   },
   {
    "duration": 23,
    "start_time": "2022-11-25T21:10:30.681Z"
   },
   {
    "duration": 26,
    "start_time": "2022-11-25T21:10:30.706Z"
   },
   {
    "duration": 21,
    "start_time": "2022-11-25T21:10:30.734Z"
   },
   {
    "duration": 39,
    "start_time": "2022-11-25T21:10:30.763Z"
   },
   {
    "duration": 4,
    "start_time": "2022-11-25T21:10:30.803Z"
   },
   {
    "duration": 20,
    "start_time": "2022-11-25T21:10:30.809Z"
   },
   {
    "duration": 13,
    "start_time": "2022-11-25T21:10:30.831Z"
   },
   {
    "duration": 30,
    "start_time": "2022-11-25T21:10:30.846Z"
   },
   {
    "duration": 11,
    "start_time": "2022-11-25T21:10:30.878Z"
   },
   {
    "duration": 42,
    "start_time": "2022-11-25T21:10:30.891Z"
   },
   {
    "duration": 12,
    "start_time": "2022-11-25T21:10:30.935Z"
   },
   {
    "duration": 15,
    "start_time": "2022-11-25T21:10:30.949Z"
   },
   {
    "duration": 33,
    "start_time": "2022-11-25T21:10:30.968Z"
   },
   {
    "duration": 44,
    "start_time": "2022-11-25T21:10:31.003Z"
   },
   {
    "duration": 31,
    "start_time": "2022-11-25T21:10:31.049Z"
   },
   {
    "duration": 11,
    "start_time": "2022-11-25T21:10:31.082Z"
   },
   {
    "duration": 30,
    "start_time": "2022-11-25T21:10:31.095Z"
   },
   {
    "duration": 22,
    "start_time": "2022-11-25T21:10:31.127Z"
   },
   {
    "duration": 33,
    "start_time": "2022-11-25T21:10:31.151Z"
   },
   {
    "duration": 30,
    "start_time": "2022-11-25T21:10:31.186Z"
   },
   {
    "duration": 81,
    "start_time": "2022-11-26T13:20:26.615Z"
   },
   {
    "duration": 46,
    "start_time": "2022-11-26T13:20:58.378Z"
   },
   {
    "duration": 11,
    "start_time": "2022-11-26T13:26:41.020Z"
   },
   {
    "duration": 563,
    "start_time": "2022-11-26T13:26:52.290Z"
   },
   {
    "duration": 24,
    "start_time": "2022-11-26T13:26:52.854Z"
   },
   {
    "duration": 15,
    "start_time": "2022-11-26T13:26:52.880Z"
   },
   {
    "duration": 11,
    "start_time": "2022-11-26T13:26:52.897Z"
   },
   {
    "duration": 68,
    "start_time": "2022-11-26T13:26:52.909Z"
   },
   {
    "duration": 4,
    "start_time": "2022-11-26T13:26:52.979Z"
   },
   {
    "duration": 13,
    "start_time": "2022-11-26T13:26:52.985Z"
   },
   {
    "duration": 4,
    "start_time": "2022-11-26T13:26:53.000Z"
   },
   {
    "duration": 8,
    "start_time": "2022-11-26T13:26:53.006Z"
   },
   {
    "duration": 5,
    "start_time": "2022-11-26T13:26:53.016Z"
   },
   {
    "duration": 33,
    "start_time": "2022-11-26T13:26:53.053Z"
   },
   {
    "duration": 9,
    "start_time": "2022-11-26T13:26:53.088Z"
   },
   {
    "duration": 9,
    "start_time": "2022-11-26T13:26:53.098Z"
   },
   {
    "duration": 14,
    "start_time": "2022-11-26T13:26:53.109Z"
   },
   {
    "duration": 42,
    "start_time": "2022-11-26T13:26:53.124Z"
   },
   {
    "duration": 17,
    "start_time": "2022-11-26T13:26:53.167Z"
   },
   {
    "duration": 4,
    "start_time": "2022-11-26T13:26:53.185Z"
   },
   {
    "duration": 19,
    "start_time": "2022-11-26T13:26:53.191Z"
   },
   {
    "duration": 14,
    "start_time": "2022-11-26T13:26:53.211Z"
   },
   {
    "duration": 26,
    "start_time": "2022-11-26T13:26:53.227Z"
   },
   {
    "duration": 13,
    "start_time": "2022-11-26T13:26:53.255Z"
   },
   {
    "duration": 802,
    "start_time": "2022-11-26T13:26:53.270Z"
   },
   {
    "duration": 833,
    "start_time": "2022-11-26T13:39:43.683Z"
   },
   {
    "duration": 866,
    "start_time": "2022-11-26T13:44:21.108Z"
   },
   {
    "duration": 56,
    "start_time": "2022-11-26T13:45:40.557Z"
   },
   {
    "duration": 803,
    "start_time": "2022-11-26T14:27:34.596Z"
   },
   {
    "duration": 14,
    "start_time": "2022-11-26T14:41:55.029Z"
   },
   {
    "duration": 813,
    "start_time": "2022-11-26T14:42:41.891Z"
   },
   {
    "duration": 5,
    "start_time": "2022-11-26T14:43:09.441Z"
   },
   {
    "duration": 6,
    "start_time": "2022-11-26T14:43:13.946Z"
   },
   {
    "duration": 8,
    "start_time": "2022-11-26T14:53:04.612Z"
   },
   {
    "duration": 10,
    "start_time": "2022-11-26T14:54:04.009Z"
   },
   {
    "duration": 10,
    "start_time": "2022-11-26T14:54:42.768Z"
   },
   {
    "duration": 11,
    "start_time": "2022-11-26T14:54:45.185Z"
   },
   {
    "duration": 16,
    "start_time": "2022-11-26T14:56:38.331Z"
   },
   {
    "duration": 79,
    "start_time": "2022-11-26T14:57:19.911Z"
   },
   {
    "duration": 13,
    "start_time": "2022-11-26T14:57:34.308Z"
   },
   {
    "duration": 9,
    "start_time": "2022-11-26T15:00:45.589Z"
   },
   {
    "duration": 756,
    "start_time": "2022-11-26T15:01:15.314Z"
   },
   {
    "duration": 10,
    "start_time": "2022-11-26T15:04:14.387Z"
   },
   {
    "duration": 13,
    "start_time": "2022-11-26T15:04:21.415Z"
   },
   {
    "duration": 24,
    "start_time": "2022-11-26T15:04:45.495Z"
   },
   {
    "duration": 10,
    "start_time": "2022-11-26T15:06:54.759Z"
   },
   {
    "duration": 11,
    "start_time": "2022-11-26T15:19:03.144Z"
   },
   {
    "duration": 9,
    "start_time": "2022-11-26T15:20:03.284Z"
   },
   {
    "duration": 8,
    "start_time": "2022-11-26T15:20:35.072Z"
   },
   {
    "duration": 10,
    "start_time": "2022-11-26T15:21:13.423Z"
   },
   {
    "duration": 304,
    "start_time": "2022-11-26T15:23:30.692Z"
   },
   {
    "duration": 298,
    "start_time": "2022-11-26T15:25:09.352Z"
   },
   {
    "duration": 71,
    "start_time": "2022-11-26T15:27:23.725Z"
   },
   {
    "duration": 55053,
    "start_time": "2022-11-26T15:29:44.284Z"
   },
   {
    "duration": 82,
    "start_time": "2022-11-26T15:34:51.379Z"
   },
   {
    "duration": 15,
    "start_time": "2022-11-26T15:34:51.463Z"
   },
   {
    "duration": 39,
    "start_time": "2022-11-26T15:34:51.482Z"
   },
   {
    "duration": 23,
    "start_time": "2022-11-26T15:34:51.523Z"
   },
   {
    "duration": 53,
    "start_time": "2022-11-26T15:34:51.548Z"
   },
   {
    "duration": 18,
    "start_time": "2022-11-26T15:34:51.603Z"
   },
   {
    "duration": 32,
    "start_time": "2022-11-26T15:34:51.623Z"
   },
   {
    "duration": 38,
    "start_time": "2022-11-26T15:34:51.656Z"
   },
   {
    "duration": 33,
    "start_time": "2022-11-26T15:34:51.695Z"
   },
   {
    "duration": 30,
    "start_time": "2022-11-26T15:34:51.731Z"
   },
   {
    "duration": 68,
    "start_time": "2022-11-26T15:34:51.764Z"
   },
   {
    "duration": 14,
    "start_time": "2022-11-26T15:34:51.834Z"
   },
   {
    "duration": 13,
    "start_time": "2022-11-26T15:34:51.851Z"
   },
   {
    "duration": 38,
    "start_time": "2022-11-26T15:34:51.866Z"
   },
   {
    "duration": 40,
    "start_time": "2022-11-26T15:34:51.907Z"
   },
   {
    "duration": 27,
    "start_time": "2022-11-26T15:34:51.948Z"
   },
   {
    "duration": 16,
    "start_time": "2022-11-26T15:34:51.977Z"
   },
   {
    "duration": 41,
    "start_time": "2022-11-26T15:34:51.995Z"
   },
   {
    "duration": 35,
    "start_time": "2022-11-26T15:34:52.039Z"
   },
   {
    "duration": 28,
    "start_time": "2022-11-26T15:34:52.076Z"
   },
   {
    "duration": 41,
    "start_time": "2022-11-26T15:34:52.107Z"
   },
   {
    "duration": 0,
    "start_time": "2022-11-26T15:38:58.269Z"
   },
   {
    "duration": 0,
    "start_time": "2022-11-26T15:38:58.270Z"
   },
   {
    "duration": 0,
    "start_time": "2022-11-26T15:38:58.271Z"
   },
   {
    "duration": 0,
    "start_time": "2022-11-26T15:38:58.272Z"
   },
   {
    "duration": 0,
    "start_time": "2022-11-26T15:38:58.274Z"
   },
   {
    "duration": 0,
    "start_time": "2022-11-26T15:38:58.275Z"
   },
   {
    "duration": 0,
    "start_time": "2022-11-26T15:38:58.277Z"
   },
   {
    "duration": 0,
    "start_time": "2022-11-26T15:38:58.278Z"
   },
   {
    "duration": 0,
    "start_time": "2022-11-26T15:38:58.279Z"
   },
   {
    "duration": 0,
    "start_time": "2022-11-26T15:38:58.281Z"
   },
   {
    "duration": 0,
    "start_time": "2022-11-26T15:38:58.282Z"
   },
   {
    "duration": 0,
    "start_time": "2022-11-26T15:38:58.284Z"
   },
   {
    "duration": 0,
    "start_time": "2022-11-26T15:38:58.285Z"
   },
   {
    "duration": 0,
    "start_time": "2022-11-26T15:38:58.286Z"
   },
   {
    "duration": 0,
    "start_time": "2022-11-26T15:38:58.287Z"
   },
   {
    "duration": 0,
    "start_time": "2022-11-26T15:38:58.287Z"
   },
   {
    "duration": 0,
    "start_time": "2022-11-26T15:38:58.288Z"
   },
   {
    "duration": 0,
    "start_time": "2022-11-26T15:38:58.289Z"
   },
   {
    "duration": 0,
    "start_time": "2022-11-26T15:38:58.290Z"
   },
   {
    "duration": 0,
    "start_time": "2022-11-26T15:38:58.290Z"
   },
   {
    "duration": 0,
    "start_time": "2022-11-26T15:38:58.291Z"
   },
   {
    "duration": 0,
    "start_time": "2022-11-26T15:38:58.292Z"
   },
   {
    "duration": 0,
    "start_time": "2022-11-26T15:38:58.293Z"
   },
   {
    "duration": 53241,
    "start_time": "2022-11-26T15:42:35.064Z"
   },
   {
    "duration": 52753,
    "start_time": "2022-11-26T15:48:21.634Z"
   },
   {
    "duration": 51030,
    "start_time": "2022-11-26T15:50:24.703Z"
   },
   {
    "duration": 9,
    "start_time": "2022-11-26T16:05:57.442Z"
   },
   {
    "duration": 9,
    "start_time": "2022-11-26T16:06:48.709Z"
   },
   {
    "duration": 13,
    "start_time": "2022-11-26T16:08:48.206Z"
   },
   {
    "duration": 55939,
    "start_time": "2022-11-26T16:12:40.922Z"
   },
   {
    "duration": 58870,
    "start_time": "2022-11-26T16:16:01.526Z"
   },
   {
    "duration": 71655,
    "start_time": "2022-11-26T16:17:15.599Z"
   },
   {
    "duration": 77,
    "start_time": "2022-11-26T16:21:34.202Z"
   },
   {
    "duration": 22,
    "start_time": "2022-11-26T16:21:34.281Z"
   },
   {
    "duration": 24,
    "start_time": "2022-11-26T16:21:34.305Z"
   },
   {
    "duration": 21,
    "start_time": "2022-11-26T16:21:34.332Z"
   },
   {
    "duration": 32,
    "start_time": "2022-11-26T16:21:34.354Z"
   },
   {
    "duration": 3,
    "start_time": "2022-11-26T16:21:34.388Z"
   },
   {
    "duration": 10,
    "start_time": "2022-11-26T16:21:34.393Z"
   },
   {
    "duration": 4,
    "start_time": "2022-11-26T16:21:34.405Z"
   },
   {
    "duration": 41,
    "start_time": "2022-11-26T16:21:34.411Z"
   },
   {
    "duration": 5,
    "start_time": "2022-11-26T16:21:34.455Z"
   },
   {
    "duration": 32,
    "start_time": "2022-11-26T16:21:34.461Z"
   },
   {
    "duration": 8,
    "start_time": "2022-11-26T16:21:34.495Z"
   },
   {
    "duration": 4,
    "start_time": "2022-11-26T16:21:34.505Z"
   },
   {
    "duration": 47,
    "start_time": "2022-11-26T16:21:34.510Z"
   },
   {
    "duration": 35,
    "start_time": "2022-11-26T16:21:34.560Z"
   },
   {
    "duration": 23,
    "start_time": "2022-11-26T16:21:34.597Z"
   },
   {
    "duration": 6,
    "start_time": "2022-11-26T16:21:34.622Z"
   },
   {
    "duration": 23,
    "start_time": "2022-11-26T16:21:34.629Z"
   },
   {
    "duration": 5,
    "start_time": "2022-11-26T16:21:34.654Z"
   },
   {
    "duration": 3,
    "start_time": "2022-11-26T16:21:34.661Z"
   },
   {
    "duration": 13,
    "start_time": "2022-11-26T16:21:34.666Z"
   },
   {
    "duration": 56129,
    "start_time": "2022-11-26T16:21:34.680Z"
   },
   {
    "duration": 56899,
    "start_time": "2022-11-26T16:23:09.811Z"
   },
   {
    "duration": 56240,
    "start_time": "2022-11-26T16:26:14.332Z"
   },
   {
    "duration": 52,
    "start_time": "2022-11-26T19:18:13.889Z"
   },
   {
    "duration": 668,
    "start_time": "2022-11-26T19:18:29.626Z"
   },
   {
    "duration": 23,
    "start_time": "2022-11-26T19:18:30.296Z"
   },
   {
    "duration": 53,
    "start_time": "2022-11-26T19:18:30.321Z"
   },
   {
    "duration": 19,
    "start_time": "2022-11-26T19:18:30.376Z"
   },
   {
    "duration": 107,
    "start_time": "2022-11-26T19:18:30.397Z"
   },
   {
    "duration": 34,
    "start_time": "2022-11-26T19:18:30.506Z"
   },
   {
    "duration": 88,
    "start_time": "2022-11-26T19:18:30.541Z"
   },
   {
    "duration": 138,
    "start_time": "2022-11-26T19:18:30.631Z"
   },
   {
    "duration": 40,
    "start_time": "2022-11-26T19:18:30.771Z"
   },
   {
    "duration": 18,
    "start_time": "2022-11-26T19:18:30.814Z"
   },
   {
    "duration": 128,
    "start_time": "2022-11-26T19:18:30.834Z"
   },
   {
    "duration": 54,
    "start_time": "2022-11-26T19:18:30.963Z"
   },
   {
    "duration": 45,
    "start_time": "2022-11-26T19:18:31.019Z"
   },
   {
    "duration": 49,
    "start_time": "2022-11-26T19:18:31.066Z"
   },
   {
    "duration": 56,
    "start_time": "2022-11-26T19:18:31.117Z"
   },
   {
    "duration": 20,
    "start_time": "2022-11-26T19:18:31.175Z"
   },
   {
    "duration": 17,
    "start_time": "2022-11-26T19:18:31.197Z"
   },
   {
    "duration": 32,
    "start_time": "2022-11-26T19:18:31.216Z"
   },
   {
    "duration": 19,
    "start_time": "2022-11-26T19:18:31.250Z"
   },
   {
    "duration": 28,
    "start_time": "2022-11-26T19:18:31.271Z"
   },
   {
    "duration": 71,
    "start_time": "2022-11-26T19:18:31.301Z"
   },
   {
    "duration": 48,
    "start_time": "2022-11-26T19:18:31.374Z"
   },
   {
    "duration": 69,
    "start_time": "2022-11-26T19:19:25.801Z"
   },
   {
    "duration": 15,
    "start_time": "2022-11-26T19:19:25.872Z"
   },
   {
    "duration": 26,
    "start_time": "2022-11-26T19:19:25.888Z"
   },
   {
    "duration": 14,
    "start_time": "2022-11-26T19:19:25.916Z"
   },
   {
    "duration": 197,
    "start_time": "2022-11-26T19:19:25.932Z"
   },
   {
    "duration": 4,
    "start_time": "2022-11-26T19:19:26.131Z"
   },
   {
    "duration": 11,
    "start_time": "2022-11-26T19:19:26.137Z"
   },
   {
    "duration": 10,
    "start_time": "2022-11-26T19:19:26.150Z"
   },
   {
    "duration": 37,
    "start_time": "2022-11-26T19:19:26.161Z"
   },
   {
    "duration": 29,
    "start_time": "2022-11-26T19:19:26.201Z"
   },
   {
    "duration": 45,
    "start_time": "2022-11-26T19:19:26.234Z"
   },
   {
    "duration": 11,
    "start_time": "2022-11-26T19:19:26.282Z"
   },
   {
    "duration": 4,
    "start_time": "2022-11-26T19:19:26.296Z"
   },
   {
    "duration": 11,
    "start_time": "2022-11-26T19:19:26.301Z"
   },
   {
    "duration": 21,
    "start_time": "2022-11-26T19:19:26.313Z"
   },
   {
    "duration": 20,
    "start_time": "2022-11-26T19:19:26.335Z"
   },
   {
    "duration": 4,
    "start_time": "2022-11-26T19:19:26.356Z"
   },
   {
    "duration": 9,
    "start_time": "2022-11-26T19:19:26.397Z"
   },
   {
    "duration": 9,
    "start_time": "2022-11-26T19:19:26.408Z"
   },
   {
    "duration": 7,
    "start_time": "2022-11-26T19:19:26.418Z"
   },
   {
    "duration": 13,
    "start_time": "2022-11-26T19:19:26.427Z"
   },
   {
    "duration": 2,
    "start_time": "2022-11-26T19:19:26.442Z"
   },
   {
    "duration": 52472,
    "start_time": "2022-11-26T19:19:26.446Z"
   },
   {
    "duration": 11,
    "start_time": "2022-11-26T19:20:18.920Z"
   },
   {
    "duration": 7,
    "start_time": "2022-11-26T19:22:16.788Z"
   },
   {
    "duration": 70,
    "start_time": "2022-11-26T19:23:38.480Z"
   },
   {
    "duration": 14,
    "start_time": "2022-11-26T19:23:38.552Z"
   },
   {
    "duration": 17,
    "start_time": "2022-11-26T19:23:38.568Z"
   },
   {
    "duration": 9,
    "start_time": "2022-11-26T19:23:38.597Z"
   },
   {
    "duration": 36,
    "start_time": "2022-11-26T19:23:38.608Z"
   },
   {
    "duration": 4,
    "start_time": "2022-11-26T19:23:38.646Z"
   },
   {
    "duration": 11,
    "start_time": "2022-11-26T19:23:38.652Z"
   },
   {
    "duration": 5,
    "start_time": "2022-11-26T19:23:38.697Z"
   },
   {
    "duration": 10,
    "start_time": "2022-11-26T19:23:38.704Z"
   },
   {
    "duration": 5,
    "start_time": "2022-11-26T19:23:38.717Z"
   },
   {
    "duration": 33,
    "start_time": "2022-11-26T19:23:38.724Z"
   },
   {
    "duration": 41,
    "start_time": "2022-11-26T19:23:38.759Z"
   },
   {
    "duration": 9,
    "start_time": "2022-11-26T19:23:38.802Z"
   },
   {
    "duration": 14,
    "start_time": "2022-11-26T19:23:38.813Z"
   },
   {
    "duration": 24,
    "start_time": "2022-11-26T19:23:38.829Z"
   },
   {
    "duration": 19,
    "start_time": "2022-11-26T19:23:38.854Z"
   },
   {
    "duration": 24,
    "start_time": "2022-11-26T19:23:38.875Z"
   },
   {
    "duration": 14,
    "start_time": "2022-11-26T19:23:38.901Z"
   },
   {
    "duration": 7,
    "start_time": "2022-11-26T19:23:38.917Z"
   },
   {
    "duration": 4,
    "start_time": "2022-11-26T19:23:38.926Z"
   },
   {
    "duration": 11,
    "start_time": "2022-11-26T19:23:38.931Z"
   },
   {
    "duration": 6,
    "start_time": "2022-11-26T19:23:38.944Z"
   },
   {
    "duration": 52764,
    "start_time": "2022-11-26T19:23:38.952Z"
   },
   {
    "duration": 9,
    "start_time": "2022-11-26T19:24:31.718Z"
   },
   {
    "duration": 11,
    "start_time": "2022-11-26T19:27:27.069Z"
   },
   {
    "duration": 29,
    "start_time": "2022-11-26T20:44:06.482Z"
   },
   {
    "duration": 6,
    "start_time": "2022-11-26T20:44:10.690Z"
   },
   {
    "duration": 3,
    "start_time": "2022-11-26T20:44:15.170Z"
   },
   {
    "duration": 8,
    "start_time": "2022-11-26T20:44:18.373Z"
   },
   {
    "duration": 8,
    "start_time": "2022-11-26T20:45:44.572Z"
   },
   {
    "duration": 4,
    "start_time": "2022-11-26T20:45:47.067Z"
   },
   {
    "duration": 8,
    "start_time": "2022-11-26T20:45:49.102Z"
   },
   {
    "duration": 73,
    "start_time": "2022-11-26T20:48:05.346Z"
   },
   {
    "duration": 17,
    "start_time": "2022-11-26T20:48:05.421Z"
   },
   {
    "duration": 18,
    "start_time": "2022-11-26T20:48:05.440Z"
   },
   {
    "duration": 42,
    "start_time": "2022-11-26T20:48:05.460Z"
   },
   {
    "duration": 37,
    "start_time": "2022-11-26T20:48:05.503Z"
   },
   {
    "duration": 3,
    "start_time": "2022-11-26T20:48:05.542Z"
   },
   {
    "duration": 10,
    "start_time": "2022-11-26T20:48:05.547Z"
   },
   {
    "duration": 12,
    "start_time": "2022-11-26T20:48:05.558Z"
   },
   {
    "duration": 6,
    "start_time": "2022-11-26T20:48:05.597Z"
   },
   {
    "duration": 8,
    "start_time": "2022-11-26T20:48:05.606Z"
   },
   {
    "duration": 35,
    "start_time": "2022-11-26T20:48:05.615Z"
   },
   {
    "duration": 9,
    "start_time": "2022-11-26T20:48:05.651Z"
   },
   {
    "duration": 35,
    "start_time": "2022-11-26T20:48:05.662Z"
   },
   {
    "duration": 10,
    "start_time": "2022-11-26T20:48:05.698Z"
   },
   {
    "duration": 21,
    "start_time": "2022-11-26T20:48:05.710Z"
   },
   {
    "duration": 19,
    "start_time": "2022-11-26T20:48:05.733Z"
   },
   {
    "duration": 5,
    "start_time": "2022-11-26T20:48:05.754Z"
   },
   {
    "duration": 41,
    "start_time": "2022-11-26T20:48:05.761Z"
   },
   {
    "duration": 10,
    "start_time": "2022-11-26T20:48:05.804Z"
   },
   {
    "duration": 4,
    "start_time": "2022-11-26T20:48:05.816Z"
   },
   {
    "duration": 11,
    "start_time": "2022-11-26T20:48:05.822Z"
   },
   {
    "duration": 6,
    "start_time": "2022-11-26T20:48:05.835Z"
   },
   {
    "duration": 51476,
    "start_time": "2022-11-26T20:48:05.843Z"
   },
   {
    "duration": 14,
    "start_time": "2022-11-26T20:48:57.321Z"
   },
   {
    "duration": 8,
    "start_time": "2022-11-26T20:48:57.337Z"
   },
   {
    "duration": 5,
    "start_time": "2022-11-26T20:48:57.347Z"
   },
   {
    "duration": 44,
    "start_time": "2022-11-26T20:48:57.353Z"
   },
   {
    "duration": 11,
    "start_time": "2022-11-26T21:03:42.022Z"
   },
   {
    "duration": 3,
    "start_time": "2022-11-26T21:03:44.652Z"
   },
   {
    "duration": 11,
    "start_time": "2022-11-26T21:03:47.188Z"
   },
   {
    "duration": 45,
    "start_time": "2022-11-27T09:39:41.320Z"
   },
   {
    "duration": 3,
    "start_time": "2022-11-27T09:40:02.102Z"
   },
   {
    "duration": 12,
    "start_time": "2022-11-27T09:40:05.350Z"
   },
   {
    "duration": 4,
    "start_time": "2022-11-27T09:48:55.534Z"
   },
   {
    "duration": 7,
    "start_time": "2022-11-27T10:00:00.637Z"
   },
   {
    "duration": 11,
    "start_time": "2022-11-27T10:04:36.317Z"
   },
   {
    "duration": 6,
    "start_time": "2022-11-27T10:05:05.481Z"
   },
   {
    "duration": 6,
    "start_time": "2022-11-27T10:05:30.455Z"
   },
   {
    "duration": 4,
    "start_time": "2022-11-27T10:06:14.303Z"
   },
   {
    "duration": 6,
    "start_time": "2022-11-27T10:06:34.997Z"
   },
   {
    "duration": 7,
    "start_time": "2022-11-27T10:06:48.008Z"
   },
   {
    "duration": 690,
    "start_time": "2022-11-27T10:11:14.867Z"
   },
   {
    "duration": 19,
    "start_time": "2022-11-27T10:11:15.559Z"
   },
   {
    "duration": 14,
    "start_time": "2022-11-27T10:11:15.579Z"
   },
   {
    "duration": 9,
    "start_time": "2022-11-27T10:11:15.596Z"
   },
   {
    "duration": 51,
    "start_time": "2022-11-27T10:11:15.607Z"
   },
   {
    "duration": 4,
    "start_time": "2022-11-27T10:11:15.660Z"
   },
   {
    "duration": 9,
    "start_time": "2022-11-27T10:11:15.666Z"
   },
   {
    "duration": 4,
    "start_time": "2022-11-27T10:11:15.677Z"
   },
   {
    "duration": 29,
    "start_time": "2022-11-27T10:11:15.683Z"
   },
   {
    "duration": 4,
    "start_time": "2022-11-27T10:11:15.715Z"
   },
   {
    "duration": 39,
    "start_time": "2022-11-27T10:11:15.721Z"
   },
   {
    "duration": 10,
    "start_time": "2022-11-27T10:11:15.761Z"
   },
   {
    "duration": 4,
    "start_time": "2022-11-27T10:11:15.773Z"
   },
   {
    "duration": 36,
    "start_time": "2022-11-27T10:11:15.778Z"
   },
   {
    "duration": 25,
    "start_time": "2022-11-27T10:11:15.816Z"
   },
   {
    "duration": 17,
    "start_time": "2022-11-27T10:11:15.843Z"
   },
   {
    "duration": 9,
    "start_time": "2022-11-27T10:11:15.861Z"
   },
   {
    "duration": 12,
    "start_time": "2022-11-27T10:11:15.871Z"
   },
   {
    "duration": 5,
    "start_time": "2022-11-27T10:11:15.885Z"
   },
   {
    "duration": 21,
    "start_time": "2022-11-27T10:11:15.892Z"
   },
   {
    "duration": 14,
    "start_time": "2022-11-27T10:11:15.915Z"
   },
   {
    "duration": 6,
    "start_time": "2022-11-27T10:11:15.931Z"
   },
   {
    "duration": 55121,
    "start_time": "2022-11-27T10:11:15.938Z"
   },
   {
    "duration": 10,
    "start_time": "2022-11-27T10:12:11.061Z"
   },
   {
    "duration": 178,
    "start_time": "2022-11-27T10:12:11.073Z"
   },
   {
    "duration": 8,
    "start_time": "2022-11-27T10:12:11.252Z"
   },
   {
    "duration": 24,
    "start_time": "2022-11-27T10:12:11.262Z"
   },
   {
    "duration": 17,
    "start_time": "2022-11-27T10:12:11.288Z"
   },
   {
    "duration": 24,
    "start_time": "2022-11-27T10:12:11.307Z"
   },
   {
    "duration": 21,
    "start_time": "2022-11-27T10:12:11.332Z"
   },
   {
    "duration": 6,
    "start_time": "2022-11-27T10:16:52.256Z"
   },
   {
    "duration": 4,
    "start_time": "2022-11-27T10:16:58.729Z"
   },
   {
    "duration": 10,
    "start_time": "2022-11-27T10:17:01.263Z"
   },
   {
    "duration": 6,
    "start_time": "2022-11-27T10:17:04.490Z"
   },
   {
    "duration": 23,
    "start_time": "2022-11-27T10:20:23.533Z"
   },
   {
    "duration": 6,
    "start_time": "2022-11-27T10:54:11.990Z"
   },
   {
    "duration": 4,
    "start_time": "2022-11-27T10:58:19.083Z"
   },
   {
    "duration": 11,
    "start_time": "2022-11-27T10:58:21.263Z"
   },
   {
    "duration": 2,
    "start_time": "2022-11-27T10:58:24.507Z"
   },
   {
    "duration": 3,
    "start_time": "2022-11-27T10:59:11.597Z"
   },
   {
    "duration": 3,
    "start_time": "2022-11-27T11:02:24.043Z"
   },
   {
    "duration": 56,
    "start_time": "2022-11-27T11:02:25.073Z"
   },
   {
    "duration": 4,
    "start_time": "2022-11-27T11:02:36.495Z"
   },
   {
    "duration": 50,
    "start_time": "2022-11-27T11:02:51.626Z"
   },
   {
    "duration": 19,
    "start_time": "2022-11-27T11:03:04.645Z"
   },
   {
    "duration": 10,
    "start_time": "2022-11-27T11:03:16.806Z"
   },
   {
    "duration": 3,
    "start_time": "2022-11-27T11:03:20.411Z"
   },
   {
    "duration": 17,
    "start_time": "2022-11-27T11:04:23.597Z"
   },
   {
    "duration": 4,
    "start_time": "2022-11-27T11:04:54.589Z"
   },
   {
    "duration": 25,
    "start_time": "2022-11-27T11:04:56.518Z"
   },
   {
    "duration": 10,
    "start_time": "2022-11-27T11:05:01.636Z"
   },
   {
    "duration": 5,
    "start_time": "2022-11-27T11:06:06.503Z"
   },
   {
    "duration": 17,
    "start_time": "2022-11-27T11:06:07.778Z"
   },
   {
    "duration": 32,
    "start_time": "2022-11-27T11:06:39.287Z"
   },
   {
    "duration": 4,
    "start_time": "2022-11-27T11:07:01.536Z"
   },
   {
    "duration": 9,
    "start_time": "2022-11-27T15:27:00.517Z"
   },
   {
    "duration": 46,
    "start_time": "2022-11-27T15:27:02.162Z"
   },
   {
    "duration": 746,
    "start_time": "2022-11-27T15:27:25.787Z"
   },
   {
    "duration": 29,
    "start_time": "2022-11-27T15:27:26.535Z"
   },
   {
    "duration": 25,
    "start_time": "2022-11-27T15:27:26.566Z"
   },
   {
    "duration": 10,
    "start_time": "2022-11-27T15:27:26.594Z"
   },
   {
    "duration": 32,
    "start_time": "2022-11-27T15:27:26.606Z"
   },
   {
    "duration": 4,
    "start_time": "2022-11-27T15:27:26.639Z"
   },
   {
    "duration": 10,
    "start_time": "2022-11-27T15:27:26.645Z"
   },
   {
    "duration": 5,
    "start_time": "2022-11-27T15:27:26.657Z"
   },
   {
    "duration": 8,
    "start_time": "2022-11-27T15:27:26.664Z"
   },
   {
    "duration": 37,
    "start_time": "2022-11-27T15:27:26.675Z"
   },
   {
    "duration": 36,
    "start_time": "2022-11-27T15:27:26.714Z"
   },
   {
    "duration": 9,
    "start_time": "2022-11-27T15:27:26.752Z"
   },
   {
    "duration": 7,
    "start_time": "2022-11-27T15:27:26.762Z"
   },
   {
    "duration": 20,
    "start_time": "2022-11-27T15:27:26.770Z"
   },
   {
    "duration": 33,
    "start_time": "2022-11-27T15:27:26.791Z"
   },
   {
    "duration": 17,
    "start_time": "2022-11-27T15:27:26.826Z"
   },
   {
    "duration": 4,
    "start_time": "2022-11-27T15:27:26.845Z"
   },
   {
    "duration": 15,
    "start_time": "2022-11-27T15:27:26.851Z"
   },
   {
    "duration": 8,
    "start_time": "2022-11-27T15:27:26.868Z"
   },
   {
    "duration": 16,
    "start_time": "2022-11-27T15:27:26.878Z"
   },
   {
    "duration": 10,
    "start_time": "2022-11-27T15:27:26.911Z"
   },
   {
    "duration": 6,
    "start_time": "2022-11-27T15:27:26.923Z"
   },
   {
    "duration": 54000,
    "start_time": "2022-11-27T15:27:26.931Z"
   },
   {
    "duration": 10,
    "start_time": "2022-11-27T15:28:20.933Z"
   },
   {
    "duration": 151,
    "start_time": "2022-11-27T15:28:20.944Z"
   },
   {
    "duration": 15,
    "start_time": "2022-11-27T15:28:21.097Z"
   },
   {
    "duration": 7,
    "start_time": "2022-11-27T15:28:21.114Z"
   },
   {
    "duration": 3,
    "start_time": "2022-11-27T15:28:21.124Z"
   },
   {
    "duration": 14,
    "start_time": "2022-11-27T15:28:21.129Z"
   },
   {
    "duration": 32,
    "start_time": "2022-11-27T15:28:21.145Z"
   },
   {
    "duration": 6,
    "start_time": "2022-11-27T15:29:29.814Z"
   },
   {
    "duration": 8,
    "start_time": "2022-11-27T15:33:25.044Z"
   },
   {
    "duration": 9,
    "start_time": "2022-11-27T15:37:29.782Z"
   },
   {
    "duration": 8,
    "start_time": "2022-11-27T15:37:52.865Z"
   },
   {
    "duration": 3,
    "start_time": "2022-11-27T15:42:15.954Z"
   },
   {
    "duration": 5,
    "start_time": "2022-11-27T15:42:38.012Z"
   },
   {
    "duration": 9,
    "start_time": "2022-11-27T15:42:40.594Z"
   },
   {
    "duration": 4,
    "start_time": "2022-11-27T15:42:43.602Z"
   },
   {
    "duration": 9,
    "start_time": "2022-11-27T15:43:47.066Z"
   },
   {
    "duration": 9,
    "start_time": "2022-11-27T15:43:49.025Z"
   },
   {
    "duration": 3,
    "start_time": "2022-11-27T15:43:50.633Z"
   },
   {
    "duration": 75,
    "start_time": "2022-11-27T15:44:32.796Z"
   },
   {
    "duration": 16,
    "start_time": "2022-11-27T15:44:32.873Z"
   },
   {
    "duration": 30,
    "start_time": "2022-11-27T15:44:32.891Z"
   },
   {
    "duration": 8,
    "start_time": "2022-11-27T15:44:32.923Z"
   },
   {
    "duration": 33,
    "start_time": "2022-11-27T15:44:32.933Z"
   },
   {
    "duration": 3,
    "start_time": "2022-11-27T15:44:32.968Z"
   },
   {
    "duration": 10,
    "start_time": "2022-11-27T15:44:32.972Z"
   },
   {
    "duration": 30,
    "start_time": "2022-11-27T15:44:32.983Z"
   },
   {
    "duration": 6,
    "start_time": "2022-11-27T15:44:33.014Z"
   },
   {
    "duration": 5,
    "start_time": "2022-11-27T15:44:33.022Z"
   },
   {
    "duration": 35,
    "start_time": "2022-11-27T15:44:33.028Z"
   },
   {
    "duration": 10,
    "start_time": "2022-11-27T15:44:33.064Z"
   },
   {
    "duration": 37,
    "start_time": "2022-11-27T15:44:33.076Z"
   },
   {
    "duration": 12,
    "start_time": "2022-11-27T15:44:33.115Z"
   },
   {
    "duration": 27,
    "start_time": "2022-11-27T15:44:33.128Z"
   },
   {
    "duration": 18,
    "start_time": "2022-11-27T15:44:33.156Z"
   },
   {
    "duration": 3,
    "start_time": "2022-11-27T15:44:33.176Z"
   },
   {
    "duration": 31,
    "start_time": "2022-11-27T15:44:33.181Z"
   },
   {
    "duration": 6,
    "start_time": "2022-11-27T15:44:33.214Z"
   },
   {
    "duration": 3,
    "start_time": "2022-11-27T15:44:33.222Z"
   },
   {
    "duration": 10,
    "start_time": "2022-11-27T15:44:33.227Z"
   },
   {
    "duration": 13,
    "start_time": "2022-11-27T15:44:33.239Z"
   },
   {
    "duration": 53998,
    "start_time": "2022-11-27T15:44:33.253Z"
   },
   {
    "duration": 12,
    "start_time": "2022-11-27T15:45:27.253Z"
   },
   {
    "duration": 7,
    "start_time": "2022-11-27T15:45:27.267Z"
   },
   {
    "duration": 3,
    "start_time": "2022-11-27T15:45:27.276Z"
   },
   {
    "duration": 11,
    "start_time": "2022-11-27T15:45:27.280Z"
   },
   {
    "duration": 6,
    "start_time": "2022-11-27T15:45:27.314Z"
   },
   {
    "duration": 11,
    "start_time": "2022-11-27T15:45:27.322Z"
   },
   {
    "duration": 8,
    "start_time": "2022-11-27T15:45:27.335Z"
   },
   {
    "duration": 10,
    "start_time": "2022-11-27T15:45:27.344Z"
   },
   {
    "duration": 8,
    "start_time": "2022-11-27T15:45:42.732Z"
   },
   {
    "duration": 76,
    "start_time": "2022-11-27T15:52:43.167Z"
   },
   {
    "duration": 18,
    "start_time": "2022-11-27T15:52:43.245Z"
   },
   {
    "duration": 28,
    "start_time": "2022-11-27T15:52:43.265Z"
   },
   {
    "duration": 22,
    "start_time": "2022-11-27T15:52:43.295Z"
   },
   {
    "duration": 36,
    "start_time": "2022-11-27T15:52:43.318Z"
   },
   {
    "duration": 4,
    "start_time": "2022-11-27T15:52:43.356Z"
   },
   {
    "duration": 31,
    "start_time": "2022-11-27T15:52:43.362Z"
   },
   {
    "duration": 16,
    "start_time": "2022-11-27T15:52:43.396Z"
   },
   {
    "duration": 7,
    "start_time": "2022-11-27T15:52:43.414Z"
   },
   {
    "duration": 8,
    "start_time": "2022-11-27T15:52:43.424Z"
   },
   {
    "duration": 50,
    "start_time": "2022-11-27T15:52:43.434Z"
   },
   {
    "duration": 10,
    "start_time": "2022-11-27T15:52:43.485Z"
   },
   {
    "duration": 19,
    "start_time": "2022-11-27T15:52:43.497Z"
   },
   {
    "duration": 27,
    "start_time": "2022-11-27T15:52:43.519Z"
   },
   {
    "duration": 30,
    "start_time": "2022-11-27T15:52:43.548Z"
   },
   {
    "duration": 33,
    "start_time": "2022-11-27T15:52:43.579Z"
   },
   {
    "duration": 4,
    "start_time": "2022-11-27T15:52:43.614Z"
   },
   {
    "duration": 25,
    "start_time": "2022-11-27T15:52:43.620Z"
   },
   {
    "duration": 8,
    "start_time": "2022-11-27T15:52:43.648Z"
   },
   {
    "duration": 12,
    "start_time": "2022-11-27T15:52:43.658Z"
   },
   {
    "duration": 28,
    "start_time": "2022-11-27T15:52:43.672Z"
   },
   {
    "duration": 10,
    "start_time": "2022-11-27T15:52:43.702Z"
   },
   {
    "duration": 54218,
    "start_time": "2022-11-27T15:52:43.714Z"
   },
   {
    "duration": 11,
    "start_time": "2022-11-27T15:53:37.934Z"
   },
   {
    "duration": 8,
    "start_time": "2022-11-27T15:53:37.947Z"
   },
   {
    "duration": 10,
    "start_time": "2022-11-27T15:53:37.956Z"
   },
   {
    "duration": 11,
    "start_time": "2022-11-27T15:53:37.968Z"
   },
   {
    "duration": 4,
    "start_time": "2022-11-27T15:53:37.982Z"
   },
   {
    "duration": 11,
    "start_time": "2022-11-27T15:53:38.012Z"
   },
   {
    "duration": 17,
    "start_time": "2022-11-27T15:53:38.025Z"
   },
   {
    "duration": 4,
    "start_time": "2022-11-27T15:53:38.045Z"
   },
   {
    "duration": 10,
    "start_time": "2022-11-27T15:53:42.215Z"
   },
   {
    "duration": 11,
    "start_time": "2022-11-27T16:13:19.089Z"
   },
   {
    "duration": 6,
    "start_time": "2022-11-27T16:14:09.908Z"
   },
   {
    "duration": 10,
    "start_time": "2022-11-27T16:14:26.522Z"
   },
   {
    "duration": 8,
    "start_time": "2022-11-27T16:20:06.523Z"
   },
   {
    "duration": 14,
    "start_time": "2022-11-27T16:20:14.466Z"
   },
   {
    "duration": 9,
    "start_time": "2022-11-27T16:20:15.272Z"
   },
   {
    "duration": 4,
    "start_time": "2022-11-27T16:20:16.057Z"
   },
   {
    "duration": 7,
    "start_time": "2022-11-27T16:20:17.348Z"
   },
   {
    "duration": 12,
    "start_time": "2022-11-27T16:20:27.715Z"
   },
   {
    "duration": 5,
    "start_time": "2022-11-27T16:20:28.326Z"
   },
   {
    "duration": 7,
    "start_time": "2022-11-27T16:20:29.491Z"
   },
   {
    "duration": 5,
    "start_time": "2022-11-27T16:21:45.757Z"
   },
   {
    "duration": 15,
    "start_time": "2022-11-27T16:21:46.426Z"
   },
   {
    "duration": 11,
    "start_time": "2022-11-27T16:21:47.028Z"
   },
   {
    "duration": 6,
    "start_time": "2022-11-27T16:21:50.510Z"
   },
   {
    "duration": 7,
    "start_time": "2022-11-27T16:21:52.332Z"
   },
   {
    "duration": 13,
    "start_time": "2022-11-27T16:22:14.548Z"
   },
   {
    "duration": 3,
    "start_time": "2022-11-27T16:22:15.032Z"
   },
   {
    "duration": 8,
    "start_time": "2022-11-27T16:22:15.404Z"
   },
   {
    "duration": 73,
    "start_time": "2022-11-27T17:44:36.163Z"
   },
   {
    "duration": 15,
    "start_time": "2022-11-27T17:44:36.238Z"
   },
   {
    "duration": 15,
    "start_time": "2022-11-27T17:44:36.255Z"
   },
   {
    "duration": 11,
    "start_time": "2022-11-27T17:44:36.272Z"
   },
   {
    "duration": 71,
    "start_time": "2022-11-27T17:44:36.285Z"
   },
   {
    "duration": 4,
    "start_time": "2022-11-27T17:44:36.358Z"
   },
   {
    "duration": 21,
    "start_time": "2022-11-27T17:44:36.364Z"
   },
   {
    "duration": 27,
    "start_time": "2022-11-27T17:44:36.386Z"
   },
   {
    "duration": 8,
    "start_time": "2022-11-27T17:44:36.416Z"
   },
   {
    "duration": 10,
    "start_time": "2022-11-27T17:44:36.427Z"
   },
   {
    "duration": 46,
    "start_time": "2022-11-27T17:44:36.439Z"
   },
   {
    "duration": 30,
    "start_time": "2022-11-27T17:44:36.487Z"
   },
   {
    "duration": 5,
    "start_time": "2022-11-27T17:44:36.519Z"
   },
   {
    "duration": 24,
    "start_time": "2022-11-27T17:44:36.526Z"
   },
   {
    "duration": 24,
    "start_time": "2022-11-27T17:44:36.552Z"
   },
   {
    "duration": 39,
    "start_time": "2022-11-27T17:44:36.578Z"
   },
   {
    "duration": 4,
    "start_time": "2022-11-27T17:44:36.619Z"
   },
   {
    "duration": 15,
    "start_time": "2022-11-27T17:44:36.624Z"
   },
   {
    "duration": 9,
    "start_time": "2022-11-27T17:44:36.640Z"
   },
   {
    "duration": 4,
    "start_time": "2022-11-27T17:44:36.650Z"
   },
   {
    "duration": 11,
    "start_time": "2022-11-27T17:44:36.656Z"
   },
   {
    "duration": 5,
    "start_time": "2022-11-27T17:44:36.669Z"
   },
   {
    "duration": 55121,
    "start_time": "2022-11-27T17:44:36.675Z"
   },
   {
    "duration": 20,
    "start_time": "2022-11-27T17:45:31.798Z"
   },
   {
    "duration": 7,
    "start_time": "2022-11-27T17:45:31.820Z"
   },
   {
    "duration": 3,
    "start_time": "2022-11-27T17:45:31.829Z"
   },
   {
    "duration": 10,
    "start_time": "2022-11-27T17:45:31.834Z"
   },
   {
    "duration": 6,
    "start_time": "2022-11-27T17:45:31.847Z"
   },
   {
    "duration": 12,
    "start_time": "2022-11-27T17:45:31.855Z"
   },
   {
    "duration": 42,
    "start_time": "2022-11-27T17:45:31.870Z"
   },
   {
    "duration": 4,
    "start_time": "2022-11-27T17:45:31.915Z"
   },
   {
    "duration": 12,
    "start_time": "2022-11-27T17:45:31.921Z"
   },
   {
    "duration": 11,
    "start_time": "2022-11-27T17:45:31.935Z"
   },
   {
    "duration": 3,
    "start_time": "2022-11-27T17:45:31.948Z"
   },
   {
    "duration": 10,
    "start_time": "2022-11-27T17:45:31.953Z"
   },
   {
    "duration": 79,
    "start_time": "2022-11-27T19:25:42.529Z"
   },
   {
    "duration": 18,
    "start_time": "2022-11-27T19:25:42.611Z"
   },
   {
    "duration": 41,
    "start_time": "2022-11-27T19:25:42.632Z"
   },
   {
    "duration": 24,
    "start_time": "2022-11-27T19:25:42.675Z"
   },
   {
    "duration": 71,
    "start_time": "2022-11-27T19:25:42.701Z"
   },
   {
    "duration": 4,
    "start_time": "2022-11-27T19:25:42.775Z"
   },
   {
    "duration": 46,
    "start_time": "2022-11-27T19:25:42.780Z"
   },
   {
    "duration": 19,
    "start_time": "2022-11-27T19:25:42.828Z"
   },
   {
    "duration": 36,
    "start_time": "2022-11-27T19:25:42.849Z"
   },
   {
    "duration": 44,
    "start_time": "2022-11-27T19:25:42.889Z"
   },
   {
    "duration": 40,
    "start_time": "2022-11-27T19:25:42.935Z"
   },
   {
    "duration": 12,
    "start_time": "2022-11-27T19:25:42.977Z"
   },
   {
    "duration": 18,
    "start_time": "2022-11-27T19:25:42.991Z"
   },
   {
    "duration": 36,
    "start_time": "2022-11-27T19:25:43.011Z"
   },
   {
    "duration": 62,
    "start_time": "2022-11-27T19:25:43.049Z"
   },
   {
    "duration": 25,
    "start_time": "2022-11-27T19:25:43.113Z"
   },
   {
    "duration": 22,
    "start_time": "2022-11-27T19:25:43.140Z"
   },
   {
    "duration": 36,
    "start_time": "2022-11-27T19:25:43.164Z"
   },
   {
    "duration": 22,
    "start_time": "2022-11-27T19:25:43.202Z"
   },
   {
    "duration": 30,
    "start_time": "2022-11-27T19:25:43.226Z"
   },
   {
    "duration": 35,
    "start_time": "2022-11-27T19:25:43.258Z"
   },
   {
    "duration": 45,
    "start_time": "2022-11-27T19:25:43.295Z"
   },
   {
    "duration": 60353,
    "start_time": "2022-11-27T19:25:43.342Z"
   },
   {
    "duration": 27,
    "start_time": "2022-11-27T19:26:43.697Z"
   },
   {
    "duration": 12,
    "start_time": "2022-11-27T19:26:43.727Z"
   },
   {
    "duration": 8,
    "start_time": "2022-11-27T19:26:43.743Z"
   },
   {
    "duration": 22,
    "start_time": "2022-11-27T19:26:43.753Z"
   },
   {
    "duration": 9,
    "start_time": "2022-11-27T19:26:43.779Z"
   },
   {
    "duration": 31,
    "start_time": "2022-11-27T19:26:43.791Z"
   },
   {
    "duration": 14,
    "start_time": "2022-11-27T19:26:43.824Z"
   },
   {
    "duration": 12,
    "start_time": "2022-11-27T19:26:43.840Z"
   },
   {
    "duration": 13,
    "start_time": "2022-11-27T19:26:43.855Z"
   },
   {
    "duration": 30,
    "start_time": "2022-11-27T19:26:43.871Z"
   },
   {
    "duration": 9,
    "start_time": "2022-11-27T19:26:43.904Z"
   },
   {
    "duration": 18,
    "start_time": "2022-11-27T19:26:43.916Z"
   },
   {
    "duration": 588,
    "start_time": "2022-11-27T19:56:30.669Z"
   },
   {
    "duration": 25,
    "start_time": "2022-11-27T19:56:31.259Z"
   },
   {
    "duration": 28,
    "start_time": "2022-11-27T19:56:31.286Z"
   },
   {
    "duration": 14,
    "start_time": "2022-11-27T19:56:31.316Z"
   },
   {
    "duration": 54,
    "start_time": "2022-11-27T19:56:31.332Z"
   },
   {
    "duration": 5,
    "start_time": "2022-11-27T19:56:31.388Z"
   },
   {
    "duration": 34,
    "start_time": "2022-11-27T19:56:31.395Z"
   },
   {
    "duration": 12,
    "start_time": "2022-11-27T19:56:31.431Z"
   },
   {
    "duration": 62,
    "start_time": "2022-11-27T19:56:31.444Z"
   },
   {
    "duration": 33,
    "start_time": "2022-11-27T19:56:31.508Z"
   },
   {
    "duration": 61,
    "start_time": "2022-11-27T19:56:31.543Z"
   },
   {
    "duration": 14,
    "start_time": "2022-11-27T19:56:31.607Z"
   },
   {
    "duration": 22,
    "start_time": "2022-11-27T19:56:31.623Z"
   },
   {
    "duration": 46,
    "start_time": "2022-11-27T19:56:31.647Z"
   },
   {
    "duration": 69,
    "start_time": "2022-11-27T19:56:31.694Z"
   },
   {
    "duration": 58,
    "start_time": "2022-11-27T19:56:31.764Z"
   },
   {
    "duration": 13,
    "start_time": "2022-11-27T19:56:31.824Z"
   },
   {
    "duration": 38,
    "start_time": "2022-11-27T19:56:31.839Z"
   },
   {
    "duration": 45,
    "start_time": "2022-11-27T19:56:31.878Z"
   },
   {
    "duration": 27,
    "start_time": "2022-11-27T19:56:31.925Z"
   },
   {
    "duration": 59,
    "start_time": "2022-11-27T19:56:31.954Z"
   },
   {
    "duration": 26,
    "start_time": "2022-11-27T19:56:32.014Z"
   },
   {
    "duration": 54974,
    "start_time": "2022-11-27T19:56:32.042Z"
   },
   {
    "duration": 13,
    "start_time": "2022-11-27T19:57:27.018Z"
   },
   {
    "duration": 154,
    "start_time": "2022-11-27T19:57:27.033Z"
   },
   {
    "duration": 4,
    "start_time": "2022-11-27T19:57:27.189Z"
   },
   {
    "duration": 18,
    "start_time": "2022-11-27T19:57:27.194Z"
   },
   {
    "duration": 12,
    "start_time": "2022-11-27T19:57:27.214Z"
   },
   {
    "duration": 16,
    "start_time": "2022-11-27T19:57:27.228Z"
   },
   {
    "duration": 33,
    "start_time": "2022-11-27T19:57:27.246Z"
   },
   {
    "duration": 4,
    "start_time": "2022-11-27T19:57:27.281Z"
   },
   {
    "duration": 21,
    "start_time": "2022-11-27T19:57:27.287Z"
   },
   {
    "duration": 11,
    "start_time": "2022-11-27T19:57:27.310Z"
   },
   {
    "duration": 3,
    "start_time": "2022-11-27T19:57:27.323Z"
   },
   {
    "duration": 15,
    "start_time": "2022-11-27T19:57:27.328Z"
   },
   {
    "duration": 7,
    "start_time": "2022-11-28T18:28:55.073Z"
   },
   {
    "duration": 45,
    "start_time": "2022-11-28T18:29:01.353Z"
   },
   {
    "duration": 1091,
    "start_time": "2022-11-28T18:29:19.975Z"
   },
   {
    "duration": 20,
    "start_time": "2022-11-28T18:29:21.068Z"
   },
   {
    "duration": 15,
    "start_time": "2022-11-28T18:29:21.089Z"
   },
   {
    "duration": 9,
    "start_time": "2022-11-28T18:29:21.105Z"
   },
   {
    "duration": 32,
    "start_time": "2022-11-28T18:29:21.116Z"
   },
   {
    "duration": 3,
    "start_time": "2022-11-28T18:29:21.150Z"
   },
   {
    "duration": 28,
    "start_time": "2022-11-28T18:29:21.154Z"
   },
   {
    "duration": 18,
    "start_time": "2022-11-28T18:29:21.183Z"
   },
   {
    "duration": 16,
    "start_time": "2022-11-28T18:29:21.203Z"
   },
   {
    "duration": 6,
    "start_time": "2022-11-28T18:29:21.222Z"
   },
   {
    "duration": 36,
    "start_time": "2022-11-28T18:29:21.229Z"
   },
   {
    "duration": 10,
    "start_time": "2022-11-28T18:29:21.266Z"
   },
   {
    "duration": 20,
    "start_time": "2022-11-28T18:29:21.277Z"
   },
   {
    "duration": 11,
    "start_time": "2022-11-28T18:29:21.299Z"
   },
   {
    "duration": 29,
    "start_time": "2022-11-28T18:29:21.312Z"
   },
   {
    "duration": 17,
    "start_time": "2022-11-28T18:29:21.342Z"
   },
   {
    "duration": 3,
    "start_time": "2022-11-28T18:29:21.360Z"
   },
   {
    "duration": 18,
    "start_time": "2022-11-28T18:29:21.364Z"
   },
   {
    "duration": 16,
    "start_time": "2022-11-28T18:29:21.383Z"
   },
   {
    "duration": 3,
    "start_time": "2022-11-28T18:29:21.400Z"
   },
   {
    "duration": 13,
    "start_time": "2022-11-28T18:29:21.405Z"
   },
   {
    "duration": 3,
    "start_time": "2022-11-28T18:29:21.420Z"
   },
   {
    "duration": 16,
    "start_time": "2022-11-28T18:29:21.424Z"
   },
   {
    "duration": 34,
    "start_time": "2022-11-28T18:29:21.442Z"
   },
   {
    "duration": 77,
    "start_time": "2022-11-28T18:29:21.478Z"
   },
   {
    "duration": 25,
    "start_time": "2022-11-28T18:29:21.557Z"
   },
   {
    "duration": 27,
    "start_time": "2022-11-28T18:29:21.584Z"
   },
   {
    "duration": 22,
    "start_time": "2022-11-28T18:29:21.616Z"
   },
   {
    "duration": 25,
    "start_time": "2022-11-28T18:29:21.640Z"
   },
   {
    "duration": 7,
    "start_time": "2022-11-28T18:29:21.667Z"
   },
   {
    "duration": 19,
    "start_time": "2022-11-28T18:29:21.676Z"
   },
   {
    "duration": 13,
    "start_time": "2022-11-28T18:29:21.696Z"
   },
   {
    "duration": 11,
    "start_time": "2022-11-28T18:29:21.710Z"
   },
   {
    "duration": 27,
    "start_time": "2022-11-28T18:29:21.722Z"
   },
   {
    "duration": 78,
    "start_time": "2022-11-28T18:30:01.928Z"
   },
   {
    "duration": 14,
    "start_time": "2022-11-28T18:30:02.008Z"
   },
   {
    "duration": 25,
    "start_time": "2022-11-28T18:30:02.024Z"
   },
   {
    "duration": 13,
    "start_time": "2022-11-28T18:30:02.051Z"
   },
   {
    "duration": 56,
    "start_time": "2022-11-28T18:30:02.066Z"
   },
   {
    "duration": 3,
    "start_time": "2022-11-28T18:30:02.124Z"
   },
   {
    "duration": 15,
    "start_time": "2022-11-28T18:30:02.128Z"
   },
   {
    "duration": 16,
    "start_time": "2022-11-28T18:30:02.144Z"
   },
   {
    "duration": 11,
    "start_time": "2022-11-28T18:30:02.162Z"
   },
   {
    "duration": 21,
    "start_time": "2022-11-28T18:30:02.175Z"
   },
   {
    "duration": 45,
    "start_time": "2022-11-28T18:30:02.197Z"
   },
   {
    "duration": 9,
    "start_time": "2022-11-28T18:30:02.244Z"
   },
   {
    "duration": 7,
    "start_time": "2022-11-28T18:30:02.254Z"
   },
   {
    "duration": 51,
    "start_time": "2022-11-28T18:30:02.263Z"
   },
   {
    "duration": 28,
    "start_time": "2022-11-28T18:30:02.316Z"
   },
   {
    "duration": 23,
    "start_time": "2022-11-28T18:30:02.345Z"
   },
   {
    "duration": 4,
    "start_time": "2022-11-28T18:30:02.370Z"
   },
   {
    "duration": 18,
    "start_time": "2022-11-28T18:30:02.375Z"
   },
   {
    "duration": 16,
    "start_time": "2022-11-28T18:30:02.395Z"
   },
   {
    "duration": 3,
    "start_time": "2022-11-28T18:30:02.413Z"
   },
   {
    "duration": 19,
    "start_time": "2022-11-28T18:30:02.418Z"
   },
   {
    "duration": 17,
    "start_time": "2022-11-28T18:30:02.439Z"
   },
   {
    "duration": 69,
    "start_time": "2022-11-28T18:30:26.752Z"
   },
   {
    "duration": 14,
    "start_time": "2022-11-28T18:30:26.823Z"
   },
   {
    "duration": 16,
    "start_time": "2022-11-28T18:30:26.839Z"
   },
   {
    "duration": 8,
    "start_time": "2022-11-28T18:30:26.857Z"
   },
   {
    "duration": 56,
    "start_time": "2022-11-28T18:30:26.867Z"
   },
   {
    "duration": 3,
    "start_time": "2022-11-28T18:30:26.924Z"
   },
   {
    "duration": 13,
    "start_time": "2022-11-28T18:30:26.929Z"
   },
   {
    "duration": 3,
    "start_time": "2022-11-28T18:30:26.943Z"
   },
   {
    "duration": 11,
    "start_time": "2022-11-28T18:30:26.948Z"
   },
   {
    "duration": 8,
    "start_time": "2022-11-28T18:30:26.961Z"
   },
   {
    "duration": 46,
    "start_time": "2022-11-28T18:30:26.971Z"
   },
   {
    "duration": 9,
    "start_time": "2022-11-28T18:30:27.019Z"
   },
   {
    "duration": 6,
    "start_time": "2022-11-28T18:30:27.029Z"
   },
   {
    "duration": 11,
    "start_time": "2022-11-28T18:30:27.036Z"
   },
   {
    "duration": 16,
    "start_time": "2022-11-28T18:30:27.049Z"
   },
   {
    "duration": 31,
    "start_time": "2022-11-28T18:30:27.066Z"
   },
   {
    "duration": 4,
    "start_time": "2022-11-28T18:30:27.099Z"
   },
   {
    "duration": 16,
    "start_time": "2022-11-28T18:30:27.105Z"
   },
   {
    "duration": 6,
    "start_time": "2022-11-28T18:30:27.122Z"
   },
   {
    "duration": 3,
    "start_time": "2022-11-28T18:30:27.130Z"
   },
   {
    "duration": 9,
    "start_time": "2022-11-28T18:30:27.135Z"
   },
   {
    "duration": 3,
    "start_time": "2022-11-28T18:30:27.145Z"
   },
   {
    "duration": 13,
    "start_time": "2022-11-28T18:30:27.149Z"
   },
   {
    "duration": 4,
    "start_time": "2022-11-28T18:32:10.523Z"
   },
   {
    "duration": 27,
    "start_time": "2022-11-28T18:32:35.534Z"
   },
   {
    "duration": 8,
    "start_time": "2022-11-29T08:53:17.212Z"
   },
   {
    "duration": 42,
    "start_time": "2022-11-29T08:53:19.544Z"
   },
   {
    "duration": 704,
    "start_time": "2022-11-29T08:53:49.354Z"
   },
   {
    "duration": 34,
    "start_time": "2022-11-29T08:53:50.060Z"
   },
   {
    "duration": 22,
    "start_time": "2022-11-29T08:53:50.096Z"
   },
   {
    "duration": 15,
    "start_time": "2022-11-29T08:53:50.135Z"
   },
   {
    "duration": 68,
    "start_time": "2022-11-29T08:53:50.152Z"
   },
   {
    "duration": 14,
    "start_time": "2022-11-29T08:53:50.222Z"
   },
   {
    "duration": 18,
    "start_time": "2022-11-29T08:53:50.238Z"
   },
   {
    "duration": 5,
    "start_time": "2022-11-29T08:53:50.257Z"
   },
   {
    "duration": 14,
    "start_time": "2022-11-29T08:53:50.263Z"
   },
   {
    "duration": 4,
    "start_time": "2022-11-29T08:53:50.280Z"
   },
   {
    "duration": 64,
    "start_time": "2022-11-29T08:53:50.286Z"
   },
   {
    "duration": 10,
    "start_time": "2022-11-29T08:53:50.352Z"
   },
   {
    "duration": 11,
    "start_time": "2022-11-29T08:53:50.363Z"
   },
   {
    "duration": 19,
    "start_time": "2022-11-29T08:53:50.376Z"
   },
   {
    "duration": 28,
    "start_time": "2022-11-29T08:53:50.397Z"
   },
   {
    "duration": 24,
    "start_time": "2022-11-29T08:53:50.427Z"
   },
   {
    "duration": 3,
    "start_time": "2022-11-29T08:53:50.453Z"
   },
   {
    "duration": 20,
    "start_time": "2022-11-29T08:53:50.458Z"
   },
   {
    "duration": 10,
    "start_time": "2022-11-29T08:53:50.480Z"
   },
   {
    "duration": 6,
    "start_time": "2022-11-29T08:53:50.491Z"
   },
   {
    "duration": 36,
    "start_time": "2022-11-29T08:53:50.499Z"
   },
   {
    "duration": 3,
    "start_time": "2022-11-29T08:53:50.537Z"
   },
   {
    "duration": 32,
    "start_time": "2022-11-29T08:53:50.541Z"
   },
   {
    "duration": 7,
    "start_time": "2022-11-29T08:54:26.510Z"
   },
   {
    "duration": 70,
    "start_time": "2022-11-29T09:01:37.319Z"
   },
   {
    "duration": 101,
    "start_time": "2022-11-29T09:02:22.950Z"
   },
   {
    "duration": 154,
    "start_time": "2022-11-29T09:02:59.623Z"
   },
   {
    "duration": 83,
    "start_time": "2022-11-29T09:03:48.888Z"
   },
   {
    "duration": 56,
    "start_time": "2022-11-29T09:04:40.378Z"
   },
   {
    "duration": 99,
    "start_time": "2022-11-29T09:10:35.875Z"
   },
   {
    "duration": 51,
    "start_time": "2022-11-29T09:11:01.949Z"
   },
   {
    "duration": 56,
    "start_time": "2022-11-29T09:12:00.786Z"
   },
   {
    "duration": 80,
    "start_time": "2022-11-29T09:13:13.873Z"
   },
   {
    "duration": 42,
    "start_time": "2022-11-29T09:14:38.847Z"
   },
   {
    "duration": 50,
    "start_time": "2022-11-29T09:15:19.304Z"
   },
   {
    "duration": 46,
    "start_time": "2022-11-29T09:15:24.375Z"
   },
   {
    "duration": 42,
    "start_time": "2022-11-29T09:15:34.037Z"
   },
   {
    "duration": 50,
    "start_time": "2022-11-29T09:18:34.334Z"
   },
   {
    "duration": 9,
    "start_time": "2022-11-29T09:36:08.803Z"
   },
   {
    "duration": 10,
    "start_time": "2022-11-29T09:38:51.214Z"
   },
   {
    "duration": 82,
    "start_time": "2022-11-29T09:40:20.497Z"
   },
   {
    "duration": 16,
    "start_time": "2022-11-29T09:40:20.581Z"
   },
   {
    "duration": 24,
    "start_time": "2022-11-29T09:40:20.598Z"
   },
   {
    "duration": 27,
    "start_time": "2022-11-29T09:40:20.636Z"
   },
   {
    "duration": 35,
    "start_time": "2022-11-29T09:40:20.664Z"
   },
   {
    "duration": 4,
    "start_time": "2022-11-29T09:40:20.700Z"
   },
   {
    "duration": 23,
    "start_time": "2022-11-29T09:40:20.705Z"
   },
   {
    "duration": 29,
    "start_time": "2022-11-29T09:40:20.730Z"
   },
   {
    "duration": 10,
    "start_time": "2022-11-29T09:40:20.761Z"
   },
   {
    "duration": 11,
    "start_time": "2022-11-29T09:40:20.773Z"
   },
   {
    "duration": 50,
    "start_time": "2022-11-29T09:40:20.786Z"
   },
   {
    "duration": 16,
    "start_time": "2022-11-29T09:40:20.841Z"
   },
   {
    "duration": 16,
    "start_time": "2022-11-29T09:40:20.859Z"
   },
   {
    "duration": 27,
    "start_time": "2022-11-29T09:40:20.877Z"
   },
   {
    "duration": 27,
    "start_time": "2022-11-29T09:40:20.906Z"
   },
   {
    "duration": 26,
    "start_time": "2022-11-29T09:40:20.935Z"
   },
   {
    "duration": 6,
    "start_time": "2022-11-29T09:40:20.963Z"
   },
   {
    "duration": 29,
    "start_time": "2022-11-29T09:40:20.971Z"
   },
   {
    "duration": 14,
    "start_time": "2022-11-29T09:40:21.002Z"
   },
   {
    "duration": 17,
    "start_time": "2022-11-29T09:40:21.017Z"
   },
   {
    "duration": 24,
    "start_time": "2022-11-29T09:40:21.037Z"
   },
   {
    "duration": 18,
    "start_time": "2022-11-29T09:40:21.063Z"
   },
   {
    "duration": 0,
    "start_time": "2022-11-29T09:40:21.082Z"
   },
   {
    "duration": 55,
    "start_time": "2022-11-29T09:47:49.546Z"
   },
   {
    "duration": 51574,
    "start_time": "2022-11-29T09:48:02.906Z"
   },
   {
    "duration": 51672,
    "start_time": "2022-11-29T09:49:42.931Z"
   },
   {
    "duration": 50761,
    "start_time": "2022-11-29T09:55:02.197Z"
   },
   {
    "duration": 51034,
    "start_time": "2022-11-29T09:56:35.154Z"
   },
   {
    "duration": 8,
    "start_time": "2022-11-29T10:01:56.834Z"
   },
   {
    "duration": 51023,
    "start_time": "2022-11-29T10:02:31.904Z"
   },
   {
    "duration": 50253,
    "start_time": "2022-11-29T10:03:37.815Z"
   },
   {
    "duration": 83466,
    "start_time": "2022-11-29T10:05:59.730Z"
   },
   {
    "duration": 89289,
    "start_time": "2022-11-29T10:15:13.687Z"
   },
   {
    "duration": 88891,
    "start_time": "2022-11-29T10:23:52.141Z"
   },
   {
    "duration": 55718,
    "start_time": "2022-11-29T10:27:52.478Z"
   },
   {
    "duration": 53191,
    "start_time": "2022-11-29T10:29:04.101Z"
   },
   {
    "duration": 71,
    "start_time": "2022-11-29T11:04:05.863Z"
   },
   {
    "duration": 16,
    "start_time": "2022-11-29T11:04:05.936Z"
   },
   {
    "duration": 29,
    "start_time": "2022-11-29T11:04:05.955Z"
   },
   {
    "duration": 13,
    "start_time": "2022-11-29T11:04:05.987Z"
   },
   {
    "duration": 60,
    "start_time": "2022-11-29T11:04:06.001Z"
   },
   {
    "duration": 5,
    "start_time": "2022-11-29T11:04:06.063Z"
   },
   {
    "duration": 20,
    "start_time": "2022-11-29T11:04:06.070Z"
   },
   {
    "duration": 5,
    "start_time": "2022-11-29T11:04:06.092Z"
   },
   {
    "duration": 16,
    "start_time": "2022-11-29T11:04:06.099Z"
   },
   {
    "duration": 6,
    "start_time": "2022-11-29T11:04:06.138Z"
   },
   {
    "duration": 57,
    "start_time": "2022-11-29T11:04:06.145Z"
   },
   {
    "duration": 31,
    "start_time": "2022-11-29T11:04:06.204Z"
   },
   {
    "duration": 4,
    "start_time": "2022-11-29T11:04:06.237Z"
   },
   {
    "duration": 22,
    "start_time": "2022-11-29T11:04:06.243Z"
   },
   {
    "duration": 28,
    "start_time": "2022-11-29T11:04:06.267Z"
   },
   {
    "duration": 45,
    "start_time": "2022-11-29T11:04:06.297Z"
   },
   {
    "duration": 3,
    "start_time": "2022-11-29T11:04:06.344Z"
   },
   {
    "duration": 16,
    "start_time": "2022-11-29T11:04:06.349Z"
   },
   {
    "duration": 10,
    "start_time": "2022-11-29T11:04:06.367Z"
   },
   {
    "duration": 5,
    "start_time": "2022-11-29T11:04:06.379Z"
   },
   {
    "duration": 11,
    "start_time": "2022-11-29T11:04:06.386Z"
   },
   {
    "duration": 73185,
    "start_time": "2022-11-29T11:04:06.399Z"
   },
   {
    "duration": 10,
    "start_time": "2022-11-29T11:05:19.588Z"
   },
   {
    "duration": 6,
    "start_time": "2022-11-29T11:05:19.601Z"
   },
   {
    "duration": 26,
    "start_time": "2022-11-29T11:05:19.609Z"
   },
   {
    "duration": 6,
    "start_time": "2022-11-29T11:05:19.637Z"
   },
   {
    "duration": 23,
    "start_time": "2022-11-29T11:05:19.646Z"
   },
   {
    "duration": 11,
    "start_time": "2022-11-29T11:05:19.673Z"
   },
   {
    "duration": 18,
    "start_time": "2022-11-29T11:05:19.686Z"
   },
   {
    "duration": 18,
    "start_time": "2022-11-29T11:05:19.706Z"
   },
   {
    "duration": 31,
    "start_time": "2022-11-29T11:05:19.726Z"
   },
   {
    "duration": 4,
    "start_time": "2022-11-29T11:05:19.759Z"
   },
   {
    "duration": 15,
    "start_time": "2022-11-29T11:05:19.765Z"
   },
   {
    "duration": 47,
    "start_time": "2022-11-29T12:45:57.228Z"
   },
   {
    "duration": 517,
    "start_time": "2022-11-29T12:49:11.280Z"
   },
   {
    "duration": 23,
    "start_time": "2022-11-29T12:49:11.799Z"
   },
   {
    "duration": 16,
    "start_time": "2022-11-29T12:49:11.824Z"
   },
   {
    "duration": 9,
    "start_time": "2022-11-29T12:49:11.842Z"
   },
   {
    "duration": 47,
    "start_time": "2022-11-29T12:49:11.852Z"
   },
   {
    "duration": 4,
    "start_time": "2022-11-29T12:49:11.901Z"
   },
   {
    "duration": 32,
    "start_time": "2022-11-29T12:49:11.906Z"
   },
   {
    "duration": 5,
    "start_time": "2022-11-29T12:49:11.940Z"
   },
   {
    "duration": 18,
    "start_time": "2022-11-29T12:49:11.946Z"
   },
   {
    "duration": 5,
    "start_time": "2022-11-29T12:49:11.967Z"
   },
   {
    "duration": 35,
    "start_time": "2022-11-29T12:49:11.973Z"
   },
   {
    "duration": 9,
    "start_time": "2022-11-29T12:49:12.009Z"
   },
   {
    "duration": 19,
    "start_time": "2022-11-29T12:49:12.020Z"
   },
   {
    "duration": 17,
    "start_time": "2022-11-29T12:49:12.040Z"
   },
   {
    "duration": 22,
    "start_time": "2022-11-29T12:49:12.058Z"
   },
   {
    "duration": 17,
    "start_time": "2022-11-29T12:49:12.083Z"
   },
   {
    "duration": 4,
    "start_time": "2022-11-29T12:49:12.102Z"
   },
   {
    "duration": 33,
    "start_time": "2022-11-29T12:49:12.108Z"
   },
   {
    "duration": 6,
    "start_time": "2022-11-29T12:49:12.143Z"
   },
   {
    "duration": 4,
    "start_time": "2022-11-29T12:49:12.150Z"
   },
   {
    "duration": 14,
    "start_time": "2022-11-29T12:49:12.155Z"
   },
   {
    "duration": 6,
    "start_time": "2022-11-29T12:49:12.171Z"
   },
   {
    "duration": 5,
    "start_time": "2022-11-29T12:49:12.179Z"
   },
   {
    "duration": 50954,
    "start_time": "2022-11-29T12:49:12.186Z"
   },
   {
    "duration": 159,
    "start_time": "2022-11-29T12:50:03.142Z"
   },
   {
    "duration": 0,
    "start_time": "2022-11-29T12:50:03.303Z"
   },
   {
    "duration": 0,
    "start_time": "2022-11-29T12:50:03.304Z"
   },
   {
    "duration": 0,
    "start_time": "2022-11-29T12:50:03.305Z"
   },
   {
    "duration": 0,
    "start_time": "2022-11-29T12:50:03.306Z"
   },
   {
    "duration": 0,
    "start_time": "2022-11-29T12:50:03.307Z"
   },
   {
    "duration": 0,
    "start_time": "2022-11-29T12:50:03.308Z"
   },
   {
    "duration": 0,
    "start_time": "2022-11-29T12:50:03.309Z"
   },
   {
    "duration": 0,
    "start_time": "2022-11-29T12:50:03.311Z"
   },
   {
    "duration": 0,
    "start_time": "2022-11-29T12:50:03.311Z"
   },
   {
    "duration": 0,
    "start_time": "2022-11-29T12:50:03.312Z"
   },
   {
    "duration": 0,
    "start_time": "2022-11-29T12:50:03.313Z"
   },
   {
    "duration": 83863,
    "start_time": "2022-11-29T12:51:51.026Z"
   },
   {
    "duration": 51351,
    "start_time": "2022-11-29T12:56:52.106Z"
   },
   {
    "duration": 294,
    "start_time": "2022-11-29T13:00:25.142Z"
   },
   {
    "duration": 383,
    "start_time": "2022-11-29T13:02:29.050Z"
   },
   {
    "duration": 478,
    "start_time": "2022-11-29T13:10:42.245Z"
   },
   {
    "duration": 3,
    "start_time": "2022-11-29T13:13:30.372Z"
   },
   {
    "duration": 4,
    "start_time": "2022-11-29T13:13:32.019Z"
   },
   {
    "duration": 52638,
    "start_time": "2022-11-29T13:13:32.655Z"
   },
   {
    "duration": 11,
    "start_time": "2022-11-29T13:14:25.295Z"
   },
   {
    "duration": 99,
    "start_time": "2022-11-29T13:16:45.593Z"
   },
   {
    "duration": 17,
    "start_time": "2022-11-29T13:16:45.694Z"
   },
   {
    "duration": 37,
    "start_time": "2022-11-29T13:16:45.712Z"
   },
   {
    "duration": 10,
    "start_time": "2022-11-29T13:16:45.751Z"
   },
   {
    "duration": 77,
    "start_time": "2022-11-29T13:16:45.763Z"
   },
   {
    "duration": 4,
    "start_time": "2022-11-29T13:16:45.842Z"
   },
   {
    "duration": 37,
    "start_time": "2022-11-29T13:16:45.849Z"
   },
   {
    "duration": 5,
    "start_time": "2022-11-29T13:16:45.888Z"
   },
   {
    "duration": 9,
    "start_time": "2022-11-29T13:16:45.894Z"
   },
   {
    "duration": 7,
    "start_time": "2022-11-29T13:16:45.907Z"
   },
   {
    "duration": 53,
    "start_time": "2022-11-29T13:16:45.938Z"
   },
   {
    "duration": 16,
    "start_time": "2022-11-29T13:16:45.993Z"
   },
   {
    "duration": 5,
    "start_time": "2022-11-29T13:16:46.038Z"
   },
   {
    "duration": 19,
    "start_time": "2022-11-29T13:16:46.045Z"
   },
   {
    "duration": 29,
    "start_time": "2022-11-29T13:16:46.066Z"
   },
   {
    "duration": 49,
    "start_time": "2022-11-29T13:16:46.098Z"
   },
   {
    "duration": 4,
    "start_time": "2022-11-29T13:16:46.149Z"
   },
   {
    "duration": 16,
    "start_time": "2022-11-29T13:16:46.155Z"
   },
   {
    "duration": 7,
    "start_time": "2022-11-29T13:16:46.173Z"
   },
   {
    "duration": 4,
    "start_time": "2022-11-29T13:16:46.182Z"
   },
   {
    "duration": 13,
    "start_time": "2022-11-29T13:16:46.187Z"
   },
   {
    "duration": 7,
    "start_time": "2022-11-29T13:16:46.201Z"
   },
   {
    "duration": 4,
    "start_time": "2022-11-29T13:16:46.238Z"
   },
   {
    "duration": 53562,
    "start_time": "2022-11-29T13:16:46.244Z"
   },
   {
    "duration": 12,
    "start_time": "2022-11-29T13:17:39.807Z"
   },
   {
    "duration": 23,
    "start_time": "2022-11-29T13:17:39.821Z"
   },
   {
    "duration": 5,
    "start_time": "2022-11-29T13:17:39.847Z"
   },
   {
    "duration": 18,
    "start_time": "2022-11-29T13:17:39.857Z"
   },
   {
    "duration": 6,
    "start_time": "2022-11-29T13:17:39.878Z"
   },
   {
    "duration": 17,
    "start_time": "2022-11-29T13:17:39.885Z"
   },
   {
    "duration": 11,
    "start_time": "2022-11-29T13:17:39.903Z"
   },
   {
    "duration": 5,
    "start_time": "2022-11-29T13:17:39.938Z"
   },
   {
    "duration": 17,
    "start_time": "2022-11-29T13:17:39.945Z"
   },
   {
    "duration": 19,
    "start_time": "2022-11-29T13:17:39.965Z"
   },
   {
    "duration": 4,
    "start_time": "2022-11-29T13:17:39.987Z"
   },
   {
    "duration": 26,
    "start_time": "2022-11-29T13:17:39.993Z"
   },
   {
    "duration": 45,
    "start_time": "2022-11-29T19:51:02.638Z"
   },
   {
    "duration": 7,
    "start_time": "2022-11-29T19:51:17.871Z"
   },
   {
    "duration": 734,
    "start_time": "2022-11-29T19:53:53.398Z"
   },
   {
    "duration": 21,
    "start_time": "2022-11-29T19:53:54.134Z"
   },
   {
    "duration": 14,
    "start_time": "2022-11-29T19:53:54.157Z"
   },
   {
    "duration": 9,
    "start_time": "2022-11-29T19:53:54.173Z"
   },
   {
    "duration": 45,
    "start_time": "2022-11-29T19:53:54.184Z"
   },
   {
    "duration": 4,
    "start_time": "2022-11-29T19:53:54.231Z"
   },
   {
    "duration": 15,
    "start_time": "2022-11-29T19:53:54.236Z"
   },
   {
    "duration": 4,
    "start_time": "2022-11-29T19:53:54.253Z"
   },
   {
    "duration": 8,
    "start_time": "2022-11-29T19:53:54.259Z"
   },
   {
    "duration": 4,
    "start_time": "2022-11-29T19:53:54.270Z"
   },
   {
    "duration": 62,
    "start_time": "2022-11-29T19:53:54.276Z"
   },
   {
    "duration": 10,
    "start_time": "2022-11-29T19:53:54.340Z"
   },
   {
    "duration": 4,
    "start_time": "2022-11-29T19:53:54.352Z"
   },
   {
    "duration": 12,
    "start_time": "2022-11-29T19:53:54.357Z"
   },
   {
    "duration": 21,
    "start_time": "2022-11-29T19:53:54.371Z"
   },
   {
    "duration": 41,
    "start_time": "2022-11-29T19:53:54.394Z"
   },
   {
    "duration": 3,
    "start_time": "2022-11-29T19:53:54.437Z"
   },
   {
    "duration": 17,
    "start_time": "2022-11-29T19:53:54.441Z"
   },
   {
    "duration": 10,
    "start_time": "2022-11-29T19:53:54.460Z"
   },
   {
    "duration": 4,
    "start_time": "2022-11-29T19:53:54.472Z"
   },
   {
    "duration": 14,
    "start_time": "2022-11-29T19:53:54.477Z"
   },
   {
    "duration": 6,
    "start_time": "2022-11-29T19:53:54.493Z"
   },
   {
    "duration": 21,
    "start_time": "2022-11-29T19:53:54.500Z"
   },
   {
    "duration": 48537,
    "start_time": "2022-11-29T19:53:54.522Z"
   },
   {
    "duration": 175,
    "start_time": "2022-11-29T19:54:43.061Z"
   },
   {
    "duration": 0,
    "start_time": "2022-11-29T19:54:43.239Z"
   },
   {
    "duration": 0,
    "start_time": "2022-11-29T19:54:43.240Z"
   },
   {
    "duration": 0,
    "start_time": "2022-11-29T19:54:43.241Z"
   },
   {
    "duration": 0,
    "start_time": "2022-11-29T19:54:43.243Z"
   },
   {
    "duration": 0,
    "start_time": "2022-11-29T19:54:43.244Z"
   },
   {
    "duration": 0,
    "start_time": "2022-11-29T19:54:43.245Z"
   },
   {
    "duration": 0,
    "start_time": "2022-11-29T19:54:43.247Z"
   },
   {
    "duration": 0,
    "start_time": "2022-11-29T19:54:43.248Z"
   },
   {
    "duration": 0,
    "start_time": "2022-11-29T19:54:43.248Z"
   },
   {
    "duration": 0,
    "start_time": "2022-11-29T19:54:43.249Z"
   },
   {
    "duration": 0,
    "start_time": "2022-11-29T19:54:43.250Z"
   },
   {
    "duration": 2,
    "start_time": "2022-11-29T19:56:40.430Z"
   },
   {
    "duration": 3,
    "start_time": "2022-11-29T19:56:44.215Z"
   },
   {
    "duration": 48258,
    "start_time": "2022-11-29T19:56:48.498Z"
   },
   {
    "duration": 6,
    "start_time": "2022-11-29T19:57:41.775Z"
   },
   {
    "duration": 7,
    "start_time": "2022-11-29T20:02:08.689Z"
   },
   {
    "duration": 6,
    "start_time": "2022-11-29T20:02:14.342Z"
   },
   {
    "duration": 48,
    "start_time": "2022-11-29T20:04:37.384Z"
   },
   {
    "duration": 3,
    "start_time": "2022-11-29T20:05:14.098Z"
   },
   {
    "duration": 47880,
    "start_time": "2022-11-29T20:05:17.145Z"
   },
   {
    "duration": 6,
    "start_time": "2022-11-29T20:06:07.010Z"
   },
   {
    "duration": 3,
    "start_time": "2022-11-29T20:07:03.736Z"
   },
   {
    "duration": 47868,
    "start_time": "2022-11-29T20:07:05.114Z"
   },
   {
    "duration": 7,
    "start_time": "2022-11-29T20:08:03.484Z"
   },
   {
    "duration": 6,
    "start_time": "2022-11-29T20:08:18.092Z"
   },
   {
    "duration": 7,
    "start_time": "2022-11-29T20:08:57.487Z"
   },
   {
    "duration": 2,
    "start_time": "2022-11-29T20:16:54.615Z"
   },
   {
    "duration": 48512,
    "start_time": "2022-11-29T20:16:56.154Z"
   },
   {
    "duration": 455,
    "start_time": "2022-11-29T20:25:25.633Z"
   },
   {
    "duration": 22,
    "start_time": "2022-11-29T20:25:26.090Z"
   },
   {
    "duration": 15,
    "start_time": "2022-11-29T20:25:26.114Z"
   },
   {
    "duration": 9,
    "start_time": "2022-11-29T20:25:26.131Z"
   },
   {
    "duration": 35,
    "start_time": "2022-11-29T20:25:26.142Z"
   },
   {
    "duration": 3,
    "start_time": "2022-11-29T20:25:26.179Z"
   },
   {
    "duration": 38,
    "start_time": "2022-11-29T20:25:26.184Z"
   },
   {
    "duration": 5,
    "start_time": "2022-11-29T20:25:26.224Z"
   },
   {
    "duration": 11,
    "start_time": "2022-11-29T20:25:26.231Z"
   },
   {
    "duration": 4,
    "start_time": "2022-11-29T20:25:26.247Z"
   },
   {
    "duration": 31,
    "start_time": "2022-11-29T20:25:26.253Z"
   },
   {
    "duration": 36,
    "start_time": "2022-11-29T20:25:26.285Z"
   },
   {
    "duration": 4,
    "start_time": "2022-11-29T20:25:26.322Z"
   },
   {
    "duration": 20,
    "start_time": "2022-11-29T20:25:26.327Z"
   },
   {
    "duration": 21,
    "start_time": "2022-11-29T20:25:26.348Z"
   },
   {
    "duration": 15,
    "start_time": "2022-11-29T20:25:26.370Z"
   },
   {
    "duration": 3,
    "start_time": "2022-11-29T20:25:26.386Z"
   },
   {
    "duration": 34,
    "start_time": "2022-11-29T20:25:26.391Z"
   },
   {
    "duration": 5,
    "start_time": "2022-11-29T20:25:26.427Z"
   },
   {
    "duration": 7,
    "start_time": "2022-11-29T20:25:26.433Z"
   },
   {
    "duration": 13,
    "start_time": "2022-11-29T20:25:26.441Z"
   },
   {
    "duration": 2,
    "start_time": "2022-11-29T20:25:26.456Z"
   },
   {
    "duration": 12,
    "start_time": "2022-11-29T20:25:26.459Z"
   },
   {
    "duration": 48467,
    "start_time": "2022-11-29T20:25:26.472Z"
   },
   {
    "duration": 59,
    "start_time": "2022-11-29T20:26:14.940Z"
   },
   {
    "duration": 0,
    "start_time": "2022-11-29T20:26:15.152Z"
   },
   {
    "duration": 0,
    "start_time": "2022-11-29T20:26:15.153Z"
   },
   {
    "duration": 0,
    "start_time": "2022-11-29T20:26:15.155Z"
   },
   {
    "duration": 0,
    "start_time": "2022-11-29T20:26:15.155Z"
   },
   {
    "duration": 0,
    "start_time": "2022-11-29T20:26:15.156Z"
   },
   {
    "duration": 0,
    "start_time": "2022-11-29T20:26:15.157Z"
   },
   {
    "duration": 0,
    "start_time": "2022-11-29T20:26:15.158Z"
   },
   {
    "duration": 0,
    "start_time": "2022-11-29T20:26:15.159Z"
   },
   {
    "duration": 0,
    "start_time": "2022-11-29T20:26:15.159Z"
   },
   {
    "duration": 0,
    "start_time": "2022-11-29T20:26:15.160Z"
   },
   {
    "duration": 0,
    "start_time": "2022-11-29T20:26:15.161Z"
   },
   {
    "duration": 6,
    "start_time": "2022-11-29T20:47:05.779Z"
   },
   {
    "duration": 2,
    "start_time": "2022-11-29T20:47:26.421Z"
   },
   {
    "duration": 48245,
    "start_time": "2022-11-29T20:47:27.493Z"
   },
   {
    "duration": 8,
    "start_time": "2022-11-29T20:48:30.581Z"
   },
   {
    "duration": 2,
    "start_time": "2022-11-29T21:01:33.879Z"
   },
   {
    "duration": 3,
    "start_time": "2022-11-29T21:01:36.885Z"
   },
   {
    "duration": 49958,
    "start_time": "2022-11-29T21:01:38.862Z"
   },
   {
    "duration": 3,
    "start_time": "2022-11-29T21:07:34.396Z"
   },
   {
    "duration": 3,
    "start_time": "2022-11-29T21:07:36.719Z"
   },
   {
    "duration": 48421,
    "start_time": "2022-11-29T21:07:41.920Z"
   },
   {
    "duration": 6,
    "start_time": "2022-11-29T21:08:34.199Z"
   },
   {
    "duration": 8,
    "start_time": "2022-11-29T22:14:03.693Z"
   },
   {
    "duration": 441,
    "start_time": "2022-11-29T22:14:15.849Z"
   },
   {
    "duration": 19,
    "start_time": "2022-11-29T22:14:16.292Z"
   },
   {
    "duration": 13,
    "start_time": "2022-11-29T22:14:16.313Z"
   },
   {
    "duration": 8,
    "start_time": "2022-11-29T22:14:16.328Z"
   },
   {
    "duration": 33,
    "start_time": "2022-11-29T22:14:16.337Z"
   },
   {
    "duration": 3,
    "start_time": "2022-11-29T22:14:16.371Z"
   },
   {
    "duration": 15,
    "start_time": "2022-11-29T22:14:16.375Z"
   },
   {
    "duration": 29,
    "start_time": "2022-11-29T22:14:16.392Z"
   },
   {
    "duration": 7,
    "start_time": "2022-11-29T22:14:16.422Z"
   },
   {
    "duration": 4,
    "start_time": "2022-11-29T22:14:16.431Z"
   },
   {
    "duration": 33,
    "start_time": "2022-11-29T22:14:16.436Z"
   },
   {
    "duration": 8,
    "start_time": "2022-11-29T22:14:16.470Z"
   },
   {
    "duration": 4,
    "start_time": "2022-11-29T22:14:16.479Z"
   },
   {
    "duration": 45,
    "start_time": "2022-11-29T22:14:16.484Z"
   },
   {
    "duration": 22,
    "start_time": "2022-11-29T22:14:16.531Z"
   },
   {
    "duration": 17,
    "start_time": "2022-11-29T22:14:16.556Z"
   },
   {
    "duration": 4,
    "start_time": "2022-11-29T22:14:16.575Z"
   },
   {
    "duration": 14,
    "start_time": "2022-11-29T22:14:16.580Z"
   },
   {
    "duration": 28,
    "start_time": "2022-11-29T22:14:16.595Z"
   },
   {
    "duration": 4,
    "start_time": "2022-11-29T22:14:16.624Z"
   },
   {
    "duration": 16,
    "start_time": "2022-11-29T22:14:16.629Z"
   },
   {
    "duration": 2,
    "start_time": "2022-11-29T22:14:16.647Z"
   },
   {
    "duration": 6,
    "start_time": "2022-11-29T22:14:16.651Z"
   },
   {
    "duration": 47712,
    "start_time": "2022-11-29T22:14:16.658Z"
   },
   {
    "duration": 210,
    "start_time": "2022-11-29T22:15:04.371Z"
   },
   {
    "duration": 0,
    "start_time": "2022-11-29T22:15:04.582Z"
   },
   {
    "duration": 0,
    "start_time": "2022-11-29T22:15:04.584Z"
   },
   {
    "duration": 0,
    "start_time": "2022-11-29T22:15:04.585Z"
   },
   {
    "duration": 0,
    "start_time": "2022-11-29T22:15:04.585Z"
   },
   {
    "duration": 0,
    "start_time": "2022-11-29T22:15:04.586Z"
   },
   {
    "duration": 0,
    "start_time": "2022-11-29T22:15:04.587Z"
   },
   {
    "duration": 0,
    "start_time": "2022-11-29T22:15:04.588Z"
   },
   {
    "duration": 0,
    "start_time": "2022-11-29T22:15:04.589Z"
   },
   {
    "duration": 0,
    "start_time": "2022-11-29T22:15:04.590Z"
   },
   {
    "duration": 0,
    "start_time": "2022-11-29T22:15:04.591Z"
   },
   {
    "duration": 0,
    "start_time": "2022-11-29T22:15:04.592Z"
   },
   {
    "duration": 48062,
    "start_time": "2022-11-29T22:35:20.418Z"
   },
   {
    "duration": 80475,
    "start_time": "2022-11-29T22:37:24.253Z"
   },
   {
    "duration": 48370,
    "start_time": "2022-11-29T22:39:30.173Z"
   },
   {
    "duration": 78452,
    "start_time": "2022-11-29T22:40:28.080Z"
   },
   {
    "duration": 7,
    "start_time": "2022-11-29T22:42:23.353Z"
   },
   {
    "duration": 4,
    "start_time": "2022-11-29T22:42:25.696Z"
   },
   {
    "duration": 9,
    "start_time": "2022-11-29T22:42:26.885Z"
   },
   {
    "duration": 76751,
    "start_time": "2022-11-29T22:42:31.341Z"
   },
   {
    "duration": 78,
    "start_time": "2022-11-29T23:28:36.610Z"
   },
   {
    "duration": 14,
    "start_time": "2022-11-29T23:28:36.689Z"
   },
   {
    "duration": 23,
    "start_time": "2022-11-29T23:28:36.704Z"
   },
   {
    "duration": 12,
    "start_time": "2022-11-29T23:28:36.729Z"
   },
   {
    "duration": 30,
    "start_time": "2022-11-29T23:28:36.742Z"
   },
   {
    "duration": 3,
    "start_time": "2022-11-29T23:28:36.773Z"
   },
   {
    "duration": 45,
    "start_time": "2022-11-29T23:28:36.777Z"
   },
   {
    "duration": 6,
    "start_time": "2022-11-29T23:28:36.823Z"
   },
   {
    "duration": 14,
    "start_time": "2022-11-29T23:28:36.830Z"
   },
   {
    "duration": 4,
    "start_time": "2022-11-29T23:28:36.848Z"
   },
   {
    "duration": 69,
    "start_time": "2022-11-29T23:28:36.854Z"
   },
   {
    "duration": 13,
    "start_time": "2022-11-29T23:28:36.926Z"
   },
   {
    "duration": 3,
    "start_time": "2022-11-29T23:28:36.941Z"
   },
   {
    "duration": 12,
    "start_time": "2022-11-29T23:28:36.945Z"
   },
   {
    "duration": 17,
    "start_time": "2022-11-29T23:28:36.958Z"
   },
   {
    "duration": 62,
    "start_time": "2022-11-29T23:28:36.976Z"
   },
   {
    "duration": 4,
    "start_time": "2022-11-29T23:28:37.039Z"
   },
   {
    "duration": 12,
    "start_time": "2022-11-29T23:28:37.044Z"
   },
   {
    "duration": 9,
    "start_time": "2022-11-29T23:28:37.057Z"
   },
   {
    "duration": 7,
    "start_time": "2022-11-29T23:28:37.067Z"
   },
   {
    "duration": 13,
    "start_time": "2022-11-29T23:28:37.075Z"
   },
   {
    "duration": 51422,
    "start_time": "2022-11-29T23:28:37.089Z"
   },
   {
    "duration": 16,
    "start_time": "2022-11-29T23:29:28.513Z"
   },
   {
    "duration": 20,
    "start_time": "2022-11-29T23:29:28.532Z"
   },
   {
    "duration": 24,
    "start_time": "2022-11-29T23:29:28.553Z"
   },
   {
    "duration": 84373,
    "start_time": "2022-11-29T23:29:28.578Z"
   },
   {
    "duration": 0,
    "start_time": "2022-11-29T23:30:52.953Z"
   },
   {
    "duration": 0,
    "start_time": "2022-11-29T23:30:52.954Z"
   },
   {
    "duration": 0,
    "start_time": "2022-11-29T23:30:52.955Z"
   },
   {
    "duration": 0,
    "start_time": "2022-11-29T23:30:52.956Z"
   },
   {
    "duration": 0,
    "start_time": "2022-11-29T23:30:52.958Z"
   },
   {
    "duration": 0,
    "start_time": "2022-11-29T23:30:52.959Z"
   },
   {
    "duration": 1,
    "start_time": "2022-11-29T23:30:52.960Z"
   },
   {
    "duration": 8,
    "start_time": "2022-11-29T23:31:32.308Z"
   },
   {
    "duration": 7,
    "start_time": "2022-11-29T23:31:33.310Z"
   },
   {
    "duration": 3,
    "start_time": "2022-11-29T23:31:33.876Z"
   },
   {
    "duration": 6,
    "start_time": "2022-11-29T23:31:34.534Z"
   },
   {
    "duration": 6,
    "start_time": "2022-11-29T23:31:54.919Z"
   },
   {
    "duration": 9,
    "start_time": "2022-11-29T23:31:58.455Z"
   },
   {
    "duration": 3,
    "start_time": "2022-11-29T23:31:59.178Z"
   },
   {
    "duration": 13,
    "start_time": "2022-11-29T23:31:59.725Z"
   },
   {
    "duration": 50927,
    "start_time": "2022-11-29T23:33:32.568Z"
   },
   {
    "duration": 54,
    "start_time": "2022-11-29T23:34:45.886Z"
   },
   {
    "duration": 49,
    "start_time": "2022-11-29T23:35:22.050Z"
   },
   {
    "duration": 14,
    "start_time": "2022-11-29T23:37:38.755Z"
   },
   {
    "duration": 12,
    "start_time": "2022-11-29T23:38:18.859Z"
   },
   {
    "duration": 247,
    "start_time": "2022-11-29T23:41:10.490Z"
   },
   {
    "duration": 7,
    "start_time": "2022-11-29T23:53:19.812Z"
   },
   {
    "duration": 259,
    "start_time": "2022-11-30T00:15:18.272Z"
   },
   {
    "duration": 210,
    "start_time": "2022-11-30T00:17:59.476Z"
   },
   {
    "duration": 48538,
    "start_time": "2022-11-30T00:18:12.284Z"
   },
   {
    "duration": 71,
    "start_time": "2022-11-30T00:26:42.301Z"
   },
   {
    "duration": 14,
    "start_time": "2022-11-30T00:26:42.374Z"
   },
   {
    "duration": 33,
    "start_time": "2022-11-30T00:26:42.389Z"
   },
   {
    "duration": 9,
    "start_time": "2022-11-30T00:26:42.424Z"
   },
   {
    "duration": 33,
    "start_time": "2022-11-30T00:26:42.435Z"
   },
   {
    "duration": 3,
    "start_time": "2022-11-30T00:26:42.469Z"
   },
   {
    "duration": 9,
    "start_time": "2022-11-30T00:26:42.473Z"
   },
   {
    "duration": 3,
    "start_time": "2022-11-30T00:26:42.484Z"
   },
   {
    "duration": 39,
    "start_time": "2022-11-30T00:26:42.488Z"
   },
   {
    "duration": 5,
    "start_time": "2022-11-30T00:26:42.529Z"
   },
   {
    "duration": 31,
    "start_time": "2022-11-30T00:26:42.535Z"
   },
   {
    "duration": 9,
    "start_time": "2022-11-30T00:26:42.568Z"
   },
   {
    "duration": 41,
    "start_time": "2022-11-30T00:26:42.579Z"
   },
   {
    "duration": 10,
    "start_time": "2022-11-30T00:26:42.622Z"
   },
   {
    "duration": 21,
    "start_time": "2022-11-30T00:26:42.633Z"
   },
   {
    "duration": 15,
    "start_time": "2022-11-30T00:26:42.656Z"
   },
   {
    "duration": 3,
    "start_time": "2022-11-30T00:26:42.673Z"
   },
   {
    "duration": 14,
    "start_time": "2022-11-30T00:26:42.677Z"
   },
   {
    "duration": 31,
    "start_time": "2022-11-30T00:26:42.693Z"
   },
   {
    "duration": 4,
    "start_time": "2022-11-30T00:26:42.725Z"
   },
   {
    "duration": 16,
    "start_time": "2022-11-30T00:26:42.730Z"
   },
   {
    "duration": 47324,
    "start_time": "2022-11-30T00:26:42.748Z"
   },
   {
    "duration": 6,
    "start_time": "2022-11-30T00:27:30.074Z"
   },
   {
    "duration": 16,
    "start_time": "2022-11-30T00:27:30.082Z"
   },
   {
    "duration": 15,
    "start_time": "2022-11-30T00:27:30.099Z"
   },
   {
    "duration": 15,
    "start_time": "2022-11-30T00:27:30.115Z"
   },
   {
    "duration": 20,
    "start_time": "2022-11-30T00:27:30.133Z"
   },
   {
    "duration": 4,
    "start_time": "2022-11-30T00:27:30.154Z"
   },
   {
    "duration": 23,
    "start_time": "2022-11-30T00:27:30.159Z"
   },
   {
    "duration": 12,
    "start_time": "2022-11-30T00:27:30.184Z"
   },
   {
    "duration": 11,
    "start_time": "2022-11-30T00:27:30.197Z"
   },
   {
    "duration": 43,
    "start_time": "2022-11-30T00:27:30.209Z"
   },
   {
    "duration": 444,
    "start_time": "2022-11-30T19:04:34.662Z"
   },
   {
    "duration": 132,
    "start_time": "2022-11-30T19:04:35.108Z"
   },
   {
    "duration": 20,
    "start_time": "2022-11-30T19:04:35.242Z"
   },
   {
    "duration": 16,
    "start_time": "2022-11-30T19:04:35.264Z"
   },
   {
    "duration": 12,
    "start_time": "2022-11-30T19:04:35.282Z"
   },
   {
    "duration": 37,
    "start_time": "2022-11-30T19:04:35.296Z"
   },
   {
    "duration": 4,
    "start_time": "2022-11-30T19:04:35.334Z"
   },
   {
    "duration": 17,
    "start_time": "2022-11-30T19:04:35.339Z"
   },
   {
    "duration": 5,
    "start_time": "2022-11-30T19:04:35.357Z"
   },
   {
    "duration": 8,
    "start_time": "2022-11-30T19:04:35.366Z"
   },
   {
    "duration": 31,
    "start_time": "2022-11-30T19:04:35.376Z"
   },
   {
    "duration": 32,
    "start_time": "2022-11-30T19:04:35.409Z"
   },
   {
    "duration": 11,
    "start_time": "2022-11-30T19:04:35.443Z"
   },
   {
    "duration": 4,
    "start_time": "2022-11-30T19:04:35.455Z"
   },
   {
    "duration": 12,
    "start_time": "2022-11-30T19:04:35.460Z"
   },
   {
    "duration": 51,
    "start_time": "2022-11-30T19:04:35.473Z"
   },
   {
    "duration": 14,
    "start_time": "2022-11-30T19:04:35.526Z"
   },
   {
    "duration": 4,
    "start_time": "2022-11-30T19:04:35.541Z"
   },
   {
    "duration": 10,
    "start_time": "2022-11-30T19:04:35.546Z"
   },
   {
    "duration": 6,
    "start_time": "2022-11-30T19:04:35.557Z"
   },
   {
    "duration": 4,
    "start_time": "2022-11-30T19:04:35.564Z"
   },
   {
    "duration": 37,
    "start_time": "2022-11-30T19:04:35.569Z"
   },
   {
    "duration": 4,
    "start_time": "2022-11-30T19:04:35.608Z"
   },
   {
    "duration": 6,
    "start_time": "2022-11-30T19:04:35.614Z"
   },
   {
    "duration": 48843,
    "start_time": "2022-11-30T19:04:35.621Z"
   },
   {
    "duration": 10,
    "start_time": "2022-11-30T19:05:24.466Z"
   },
   {
    "duration": 156,
    "start_time": "2022-11-30T19:05:24.477Z"
   },
   {
    "duration": 3,
    "start_time": "2022-11-30T19:05:24.636Z"
   },
   {
    "duration": 19,
    "start_time": "2022-11-30T19:05:24.641Z"
   },
   {
    "duration": 13,
    "start_time": "2022-11-30T19:05:24.661Z"
   },
   {
    "duration": 6,
    "start_time": "2022-11-30T19:05:24.676Z"
   },
   {
    "duration": 20,
    "start_time": "2022-11-30T19:05:24.684Z"
   },
   {
    "duration": 11,
    "start_time": "2022-11-30T19:05:24.706Z"
   },
   {
    "duration": 9,
    "start_time": "2022-11-30T19:05:24.719Z"
   },
   {
    "duration": 6,
    "start_time": "2022-11-30T19:05:24.729Z"
   },
   {
    "duration": 12,
    "start_time": "2022-11-30T19:05:24.736Z"
   },
   {
    "duration": 2,
    "start_time": "2022-11-30T19:16:49.275Z"
   },
   {
    "duration": 47698,
    "start_time": "2022-11-30T21:09:23.372Z"
   },
   {
    "duration": 2,
    "start_time": "2022-11-30T21:16:39.296Z"
   },
   {
    "duration": 82,
    "start_time": "2022-11-30T21:16:39.299Z"
   },
   {
    "duration": 14,
    "start_time": "2022-11-30T21:16:39.382Z"
   },
   {
    "duration": 16,
    "start_time": "2022-11-30T21:16:39.397Z"
   },
   {
    "duration": 9,
    "start_time": "2022-11-30T21:16:39.415Z"
   },
   {
    "duration": 38,
    "start_time": "2022-11-30T21:16:39.425Z"
   },
   {
    "duration": 3,
    "start_time": "2022-11-30T21:16:39.464Z"
   },
   {
    "duration": 16,
    "start_time": "2022-11-30T21:16:39.469Z"
   },
   {
    "duration": 19,
    "start_time": "2022-11-30T21:16:39.486Z"
   },
   {
    "duration": 5,
    "start_time": "2022-11-30T21:16:39.506Z"
   },
   {
    "duration": 11,
    "start_time": "2022-11-30T21:16:39.513Z"
   },
   {
    "duration": 31,
    "start_time": "2022-11-30T21:16:39.526Z"
   },
   {
    "duration": 9,
    "start_time": "2022-11-30T21:16:39.559Z"
   },
   {
    "duration": 5,
    "start_time": "2022-11-30T21:16:39.569Z"
   },
   {
    "duration": 36,
    "start_time": "2022-11-30T21:16:39.575Z"
   },
   {
    "duration": 18,
    "start_time": "2022-11-30T21:16:39.613Z"
   },
   {
    "duration": 18,
    "start_time": "2022-11-30T21:16:39.632Z"
   },
   {
    "duration": 4,
    "start_time": "2022-11-30T21:16:39.651Z"
   },
   {
    "duration": 48,
    "start_time": "2022-11-30T21:16:39.657Z"
   },
   {
    "duration": 7,
    "start_time": "2022-11-30T21:16:39.706Z"
   },
   {
    "duration": 6,
    "start_time": "2022-11-30T21:16:39.715Z"
   },
   {
    "duration": 18,
    "start_time": "2022-11-30T21:16:39.722Z"
   },
   {
    "duration": 2,
    "start_time": "2022-11-30T21:16:39.742Z"
   },
   {
    "duration": 10,
    "start_time": "2022-11-30T21:16:39.746Z"
   },
   {
    "duration": 48775,
    "start_time": "2022-11-30T21:16:39.758Z"
   },
   {
    "duration": 11,
    "start_time": "2022-11-30T21:17:28.535Z"
   },
   {
    "duration": 9,
    "start_time": "2022-11-30T21:17:28.549Z"
   },
   {
    "duration": 4,
    "start_time": "2022-11-30T21:17:28.559Z"
   },
   {
    "duration": 41,
    "start_time": "2022-11-30T21:17:28.565Z"
   },
   {
    "duration": 12,
    "start_time": "2022-11-30T21:17:28.608Z"
   },
   {
    "duration": 9,
    "start_time": "2022-11-30T21:17:28.621Z"
   },
   {
    "duration": 4,
    "start_time": "2022-11-30T21:17:28.631Z"
   },
   {
    "duration": 15,
    "start_time": "2022-11-30T21:17:28.636Z"
   },
   {
    "duration": 13,
    "start_time": "2022-11-30T21:17:28.652Z"
   },
   {
    "duration": 5,
    "start_time": "2022-11-30T21:17:28.666Z"
   },
   {
    "duration": 33,
    "start_time": "2022-11-30T21:17:28.672Z"
   },
   {
    "duration": 378,
    "start_time": "2022-12-01T07:17:50.190Z"
   },
   {
    "duration": 132,
    "start_time": "2022-12-01T07:17:50.570Z"
   },
   {
    "duration": 23,
    "start_time": "2022-12-01T07:17:50.704Z"
   },
   {
    "duration": 14,
    "start_time": "2022-12-01T07:17:50.729Z"
   },
   {
    "duration": 13,
    "start_time": "2022-12-01T07:17:50.745Z"
   },
   {
    "duration": 37,
    "start_time": "2022-12-01T07:17:50.759Z"
   },
   {
    "duration": 3,
    "start_time": "2022-12-01T07:17:50.798Z"
   },
   {
    "duration": 12,
    "start_time": "2022-12-01T07:17:50.803Z"
   },
   {
    "duration": 4,
    "start_time": "2022-12-01T07:17:50.816Z"
   },
   {
    "duration": 17,
    "start_time": "2022-12-01T07:17:50.822Z"
   },
   {
    "duration": 4,
    "start_time": "2022-12-01T07:17:50.841Z"
   },
   {
    "duration": 47,
    "start_time": "2022-12-01T07:17:50.846Z"
   },
   {
    "duration": 10,
    "start_time": "2022-12-01T07:17:50.894Z"
   },
   {
    "duration": 7,
    "start_time": "2022-12-01T07:17:50.906Z"
   },
   {
    "duration": 24,
    "start_time": "2022-12-01T07:17:50.915Z"
   },
   {
    "duration": 28,
    "start_time": "2022-12-01T07:17:50.941Z"
   },
   {
    "duration": 20,
    "start_time": "2022-12-01T07:17:50.970Z"
   },
   {
    "duration": 3,
    "start_time": "2022-12-01T07:17:50.992Z"
   },
   {
    "duration": 15,
    "start_time": "2022-12-01T07:17:50.996Z"
   },
   {
    "duration": 9,
    "start_time": "2022-12-01T07:17:51.013Z"
   },
   {
    "duration": 4,
    "start_time": "2022-12-01T07:17:51.024Z"
   },
   {
    "duration": 14,
    "start_time": "2022-12-01T07:17:51.030Z"
   },
   {
    "duration": 6,
    "start_time": "2022-12-01T07:17:51.046Z"
   },
   {
    "duration": 24,
    "start_time": "2022-12-01T07:17:51.053Z"
   },
   {
    "duration": 53259,
    "start_time": "2022-12-01T07:17:51.079Z"
   },
   {
    "duration": 9,
    "start_time": "2022-12-01T07:18:44.340Z"
   },
   {
    "duration": 157,
    "start_time": "2022-12-01T07:18:44.351Z"
   },
   {
    "duration": 14,
    "start_time": "2022-12-01T07:18:44.510Z"
   },
   {
    "duration": 9,
    "start_time": "2022-12-01T07:18:44.525Z"
   },
   {
    "duration": 9,
    "start_time": "2022-12-01T07:18:44.536Z"
   },
   {
    "duration": 8,
    "start_time": "2022-12-01T07:18:44.547Z"
   },
   {
    "duration": 3,
    "start_time": "2022-12-01T07:18:44.557Z"
   },
   {
    "duration": 18,
    "start_time": "2022-12-01T07:18:44.561Z"
   },
   {
    "duration": 19,
    "start_time": "2022-12-01T07:18:44.580Z"
   },
   {
    "duration": 4,
    "start_time": "2022-12-01T07:18:44.600Z"
   },
   {
    "duration": 10,
    "start_time": "2022-12-01T07:18:44.605Z"
   },
   {
    "duration": 251,
    "start_time": "2022-12-01T07:23:22.570Z"
   },
   {
    "duration": 33,
    "start_time": "2022-12-01T07:24:17.107Z"
   },
   {
    "duration": 39,
    "start_time": "2022-12-01T07:24:28.347Z"
   },
   {
    "duration": 39,
    "start_time": "2022-12-01T07:24:52.457Z"
   }
  ],
  "colab": {
   "name": "dpp_template_part2.ipynb",
   "provenance": []
  },
  "kernelspec": {
   "display_name": "Python 3",
   "language": "python",
   "name": "python3"
  },
  "language_info": {
   "codemirror_mode": {
    "name": "ipython",
    "version": 3
   },
   "file_extension": ".py",
   "mimetype": "text/x-python",
   "name": "python",
   "nbconvert_exporter": "python",
   "pygments_lexer": "ipython3",
   "version": "3.8.8"
  },
  "toc": {
   "base_numbering": 1,
   "nav_menu": {},
   "number_sections": true,
   "sideBar": true,
   "skip_h1_title": true,
   "title_cell": "Table of Contents",
   "title_sidebar": "Contents",
   "toc_cell": false,
   "toc_position": {},
   "toc_section_display": true,
   "toc_window_display": false
  }
 },
 "nbformat": 4,
 "nbformat_minor": 5
}
